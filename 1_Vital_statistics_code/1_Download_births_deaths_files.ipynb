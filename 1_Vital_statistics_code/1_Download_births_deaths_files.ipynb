{
 "cells": [
  {
   "cell_type": "markdown",
   "id": "ab25b66b",
   "metadata": {},
   "source": [
    "**Libraries**"
   ]
  },
  {
   "cell_type": "code",
   "execution_count": 1,
   "id": "bfd2f064",
   "metadata": {},
   "outputs": [],
   "source": [
    "from requests_html import HTMLSession\n",
    "import re, os, shutil, zipfile, io"
   ]
  },
  {
   "cell_type": "markdown",
   "id": "5ca9a6d0",
   "metadata": {},
   "source": [
    "**Functions created**"
   ]
  },
  {
   "cell_type": "code",
   "execution_count": 2,
   "id": "fec1c234",
   "metadata": {},
   "outputs": [],
   "source": [
    "## To download and unzip the zip files\n",
    "def download_unzip(names, webs, path):\n",
    "    print('       Downloading \"{}\"'.format(names))\n",
    "    zip_link = re.findall('https://microdatos.dane.gov.co//catalog/[0-9]+/download/[0-9]+', webs)[0]\n",
    "    \n",
    "    if re.match(\".*[0-9]+.*\", names) == None:\n",
    "        zip_doc = session.get(zip_link, stream=True)\n",
    "        zip = zipfile.ZipFile(io.BytesIO(zip_doc.content))\n",
    "        listOfiles = zip.namelist()\n",
    "        zip.extractall(path)\n",
    "\n",
    "        one_path = os.path.join(path, names.replace('.zip','').replace('_',' ')).replace('\\\\','\\\\\\\\')\n",
    "        ### Identifyin zip files\n",
    "        for element in os.listdir(one_path):\n",
    "            if bool(re.search('.zip$', element)) == True:\n",
    "                other_path = os.path.join(one_path,element)\n",
    "                #### Extracting zip files\n",
    "                with zipfile.ZipFile(other_path, 'r') as zObject:\n",
    "                    # Extracting all the members of the zip \n",
    "                    # into a specific location.\n",
    "                      zObject.extractall(path)\n",
    "                zObject.close()\n",
    "    else:        \n",
    "        zip_doc = session.get(zip_link, stream=True)\n",
    "        zip = zipfile.ZipFile(io.BytesIO(zip_doc.content))\n",
    "        zip.extractall(path)     "
   ]
  },
  {
   "cell_type": "code",
   "execution_count": 3,
   "id": "9f855a90",
   "metadata": {},
   "outputs": [],
   "source": [
    "## Removing unneeded files\n",
    "def remove_unneeded(path):    \n",
    "    for doc in os.listdir(path):\n",
    "        doc_path = os.path.join(path, doc)\n",
    "        if os.path.isdir(doc_path):\n",
    "\n",
    "            ## Read files\n",
    "            for element in os.listdir(doc_path):\n",
    "                if re.search('\\.txt$|\\.csv$', element):\n",
    "                    old_element_path = os.path.join(doc_path, element)\n",
    "                    new_element_path = os.path.join(path, element)\n",
    "                    os.rename(old_element_path, new_element_path)\n",
    "            try:\n",
    "                shutil.rmtree(doc_path)\n",
    "                continue\n",
    "            except:\n",
    "                os.rmdir(doc_path)\n",
    "        else:\n",
    "            if re.search('\\.txt$', doc):\n",
    "                continue\n",
    "            elif re.search('\\.csv$', doc) and re.sub('\\.csv$','.txt', doc) not in os.listdir(path):\n",
    "                continue\n",
    "            else:\n",
    "                os.remove(doc_path)\n",
    "                \n",
    "    print('Unneded files removed')"
   ]
  },
  {
   "cell_type": "code",
   "execution_count": 4,
   "id": "e57324fa",
   "metadata": {},
   "outputs": [],
   "source": [
    "# To rename files\n",
    "def rename_files(path, identity):\n",
    "    for doc in os.listdir(path):\n",
    "        file_year = re.findall('\\d+.+', doc)[0]\n",
    "        new_name  = identity + file_year\n",
    "\n",
    "        old_path = os.path.join(path, doc)\n",
    "        new_path = os.path.join(path, new_name)\n",
    "        os.rename(old_path, new_path)"
   ]
  },
  {
   "cell_type": "markdown",
   "id": "16687713",
   "metadata": {},
   "source": [
    "**Getting pages' URL**"
   ]
  },
  {
   "cell_type": "code",
   "execution_count": 5,
   "id": "bd07e88b",
   "metadata": {},
   "outputs": [],
   "source": [
    "session = HTMLSession()"
   ]
  },
  {
   "cell_type": "code",
   "execution_count": 6,
   "id": "86ca0da4",
   "metadata": {},
   "outputs": [],
   "source": [
    "url = 'https://microdatos.dane.gov.co/catalog/MICRODATOS/about_collection/22/?per_page='"
   ]
  },
  {
   "cell_type": "code",
   "execution_count": 7,
   "id": "73d90fb0",
   "metadata": {},
   "outputs": [],
   "source": [
    "response = session.get(url)"
   ]
  },
  {
   "cell_type": "code",
   "execution_count": 8,
   "id": "393ba73d",
   "metadata": {},
   "outputs": [],
   "source": [
    "links = response.html.absolute_links"
   ]
  },
  {
   "cell_type": "code",
   "execution_count": 9,
   "id": "5c173e87",
   "metadata": {},
   "outputs": [],
   "source": [
    "url_1 = url.replace('?', '\\?') + '[0-9]*'\n",
    "links_list = list()\n",
    "links_list.append(url)"
   ]
  },
  {
   "cell_type": "code",
   "execution_count": 10,
   "id": "0aa380f3",
   "metadata": {},
   "outputs": [],
   "source": [
    "for link in links:         \n",
    "    if re.search(url_1, link):\n",
    "        links_list.append(link)"
   ]
  },
  {
   "cell_type": "markdown",
   "id": "85e31037",
   "metadata": {},
   "source": [
    "**Getting zip's links**"
   ]
  },
  {
   "cell_type": "code",
   "execution_count": 11,
   "id": "a7c6fabb",
   "metadata": {},
   "outputs": [
    {
     "name": "stdout",
     "output_type": "stream",
     "text": [
      "Urls to scrape, got\n",
      "======================\n"
     ]
    }
   ],
   "source": [
    "files = list()\n",
    "\n",
    "for page in links_list:\n",
    "    response = session.get(page)\n",
    "    webs = response.html.absolute_links\n",
    "\n",
    "    for web in webs:\n",
    "        if re.search('https://microdatos.dane.gov.co//catalog/[0-9]+/get_microdata', web):\n",
    "            files.append(web)\n",
    "print('Urls to scrape, got')\n",
    "print('======================')"
   ]
  },
  {
   "cell_type": "markdown",
   "id": "338e46a4",
   "metadata": {},
   "source": [
    "**Downloading files**"
   ]
  },
  {
   "cell_type": "code",
   "execution_count": 12,
   "id": "ae04a81d",
   "metadata": {},
   "outputs": [],
   "source": [
    "## Creating directories\n",
    "path_raw = os.path.join(os.getcwd(), 'raw_data')\n",
    "path_births = os.path.join(path_raw, 'births')\n",
    "path_deaths = os.path.join(path_raw, 'deaths')\n",
    "path_fetals = os.path.join(path_raw, 'fetals')\n",
    "if os.path.exists(path_raw) == False: \n",
    "    os.mkdir(path_raw)\n",
    "if os.path.exists(path_births) == False: \n",
    "    os.mkdir(path_births)\n",
    "if os.path.exists(path_deaths) == False: \n",
    "    os.mkdir(path_deaths)\n",
    "if os.path.exists(path_fetals) == False: \n",
    "    os.mkdir(path_fetals)\n",
    "    \n",
    "files_birth = [re.sub('\\.txt|\\.sav|\\.csv', '', doc) for doc in os.listdir(path_births)]\n",
    "files_death = [re.sub('\\.txt|\\.sav|\\.csv', '', doc) for doc in os.listdir(path_deaths)]\n",
    "files_fetals = [re.sub('\\.txt|\\.sav|\\.csv', '', doc) for doc in os.listdir(path_fetals)]"
   ]
  },
  {
   "cell_type": "code",
   "execution_count": 13,
   "id": "41d80879",
   "metadata": {},
   "outputs": [
    {
     "name": "stdout",
     "output_type": "stream",
     "text": [
      "\n",
      "Retrieving \"COLOMBIA - Estadísticas Vitales - EEVV - 2012-2013\" from: \n",
      "https://microdatos.dane.gov.co//catalog/377/get_microdata\n",
      "       Downloading \"Defunciones.zip\"\n",
      "       Downloading \"Defunciones_txt.zip\"\n",
      "       Downloading \"Nacidos_vivos.zip\"\n",
      "       Downloading \"Nacidos_vivos_txt.zip\"\n",
      "       Downloading \"fetal2012.zip\"\n",
      "       Downloading \"fetal2013.zip\"\n",
      "\n",
      "Retrieving \"COLOMBIA - Estadìsticas Vitales - EEVV - 1992 -1996\" from: \n",
      "https://microdatos.dane.gov.co//catalog/397/get_microdata\n",
      "       Downloading \"Defun1992.zip\"\n",
      "       Downloading \"Defun1993.zip\"\n",
      "       Downloading \"Defun1994.zip\"\n",
      "       Downloading \"Defun1995.zip\"\n",
      "       Downloading \"Defun1996.zip\"\n",
      "\n",
      "Retrieving \"COLOMBIA - Estadìsticas Vitales - EEVV - 1998 -2007\" from: \n",
      "https://microdatos.dane.gov.co//catalog/366/get_microdata\n",
      "       Downloading \"Nacimientos_1998.zip\"\n",
      "       Downloading \"Defunciones_1998.zip\"\n",
      "       Downloading \"Nacimientos_1999.zip\"\n",
      "       Downloading \"Defunciones_1999.zip\"\n",
      "       Downloading \"Nacimientos_2000.zip\"\n",
      "       Downloading \"Defunciones__2000.zip\"\n",
      "       Downloading \"Nacimientos_2001.zip\"\n",
      "       Downloading \"Defunciones_2001.zip\"\n",
      "       Downloading \"Nacimientos_2002.zip\"\n",
      "       Downloading \"Defunciones_2002.zip\"\n",
      "       Downloading \"Nacimientos_2003.zip\"\n",
      "       Downloading \"Defunciones__2003.zip\"\n",
      "       Downloading \"Nacimientos_2004.zip\"\n",
      "       Downloading \"Defunciones__2004.zip\"\n",
      "       Downloading \"Nacimientos_2005.zip\"\n",
      "       Downloading \"Defunciones_2005.zip\"\n",
      "       Downloading \"Nacimientos_2006.zip\"\n",
      "       Downloading \"Defunciones__2006.zip\"\n",
      "       Downloading \"Nacimientos_2007.zip\"\n",
      "       Downloading \"Defunciones_2007.zip\"\n",
      "       Downloading \"fetal1998.zip\"\n",
      "       Downloading \"fetal1999.zip\"\n",
      "       Downloading \"fetal2000.zip\"\n",
      "       Downloading \"fetal2001.zip\"\n",
      "       Downloading \"fetal2002.zip\"\n",
      "       Downloading \"fetal2003.zip\"\n",
      "       Downloading \"fetal2004.zip\"\n",
      "       Downloading \"fetal2005.zip\"\n",
      "       Downloading \"fetal2006.zip\"\n",
      "       Downloading \"fetal2007.zip\"\n",
      "\n",
      "Retrieving \"COLOMBIA - Estadìsticas Vitales - EEVV - 1979 -1991\" from: \n",
      "https://microdatos.dane.gov.co//catalog/396/get_microdata\n",
      "       Downloading \"Defun1979.zip\"\n",
      "       Downloading \"Defun1980.zip\"\n",
      "       Downloading \"Defun1981.zip\"\n",
      "       Downloading \"Defun1982.zip\"\n",
      "       Downloading \"Defun1983.zip\"\n",
      "       Downloading \"Defun1984.zip\"\n",
      "       Downloading \"Defun1985.zip\"\n",
      "       Downloading \"Defun1986.zip\"\n",
      "       Downloading \"Defun1987.zip\"\n",
      "       Downloading \"Defun1988.zip\"\n",
      "       Downloading \"Defun1989.zip\"\n",
      "       Downloading \"Defun1990.zip\"\n",
      "       Downloading \"Defun1991.zip\"\n",
      "\n",
      "Retrieving \"COLOMBIA - Estadísticas Vitales - EEVV - 2008-2011\" from: \n",
      "https://microdatos.dane.gov.co//catalog/375/get_microdata\n",
      "       Downloading \"Nacidos.zip\"\n",
      "       Downloading \"Fetales.zip\"\n",
      "       Downloading \"Defunciones.zip\"\n",
      "\n",
      "Retrieving \"COLOMBIA - Estadísticas Vitales - EEVV - 2016\" from: \n",
      "https://microdatos.dane.gov.co//catalog/519/get_microdata\n",
      "       Downloading \"Defunciones.zip\"\n",
      "       Downloading \"Fetales.zip\"\n",
      "       Downloading \"Nacimientos.zip\"\n",
      "\n",
      "Retrieving \"COLOMBIA - Estadìsticas Vitales - EEVV - 1997\" from: \n",
      "https://microdatos.dane.gov.co//catalog/398/get_microdata\n",
      "       Downloading \"Defun1997.zip\"\n",
      "\n",
      "Retrieving \"COLOMBIA - Estadísticas Vitales - EEVV 2017 - 2018\" from: \n",
      "https://microdatos.dane.gov.co//catalog/652/get_microdata\n",
      "       Downloading \"Defunciones.zip\"\n",
      "       Downloading \"Fetales.zip\"\n",
      "       Downloading \"Nacimientos.zip\"\n",
      "\n",
      "Retrieving \"COLOMBIA - Estadísticas Vitales - EEVV - 2014\" from: \n",
      "https://microdatos.dane.gov.co//catalog/420/get_microdata\n",
      "       Downloading \"Defunciones.zip\"\n",
      "       Downloading \"Fetales.zip\"\n",
      "       Downloading \"Nacimientos.zip\"\n",
      "\n",
      "Retrieving \"COLOMBIA - Estadísticas Vitales - EEVV - 2015\" from: \n",
      "https://microdatos.dane.gov.co//catalog/475/get_microdata\n",
      "       Downloading \"Defunciones.zip\"\n",
      "       Downloading \"Fetales.zip\"\n",
      "       Downloading \"Nacimientos.zip\"\n",
      "\n",
      "Retrieving \"COLOMBIA - Estadísticas Vitales - EEVV - 2020\" from: \n",
      "https://microdatos.dane.gov.co//catalog/732/get_microdata\n",
      "       Downloading \"nofetal2020.zip\"\n",
      "       Downloading \"fetal2020.zip\"\n",
      "       Downloading \"nac2020.zip\"\n",
      "\n",
      "Retrieving \"COLOMBIA - Estadísticas Vitales - EEVV - 2019\" from: \n",
      "https://microdatos.dane.gov.co//catalog/696/get_microdata\n",
      "       Downloading \"Defunciones.zip\"\n",
      "       Downloading \"Fetales.zip\"\n",
      "       Downloading \"Nacimientos.zip\"\n",
      "Zip files downloaded\n"
     ]
    }
   ],
   "source": [
    "## Downloading and decompressing zips\n",
    "zips = list()\n",
    "\n",
    "for file in files:\n",
    "    response = session.get(file)\n",
    "    webpages = response.html.find('input[alt=zip]')\n",
    "    title   = response.html.find('h1[itemprop=name]')[0].text\n",
    "    print('\\nRetrieving \"{}\" from: \\n{}'.format(title, file))\n",
    "    \n",
    "    for webpage in webpages:\n",
    "        zip_webs  = webpage.attrs['onclick']\n",
    "        zip_names = webpage.attrs['title']\n",
    "        zip_names = re.sub(' ', '_', zip_names)\n",
    "        \n",
    "        if zip_names.replace('.zip', '') in files_birth or zip_names.replace('.zip', '') in files_death:\n",
    "            continue\n",
    "        else:\n",
    "            if re.search('Nac'.casefold(), zip_names.casefold()):\n",
    "                download_unzip(zip_names, zip_webs, path_births)\n",
    "            elif re.search('Def|No'.casefold(), zip_names.casefold()):\n",
    "                download_unzip(zip_names, zip_webs, path_deaths)\n",
    "            else:\n",
    "                download_unzip(zip_names, zip_webs, path_fetals)\n",
    "            \n",
    "print('Zip files downloaded')"
   ]
  },
  {
   "cell_type": "markdown",
   "id": "8e638cfb",
   "metadata": {},
   "source": [
    "**Removing unneeded files**"
   ]
  },
  {
   "cell_type": "code",
   "execution_count": 14,
   "id": "470d37ef",
   "metadata": {
    "scrolled": true
   },
   "outputs": [
    {
     "name": "stdout",
     "output_type": "stream",
     "text": [
      "Unneded files removed\n",
      "Unneded files removed\n",
      "Unneded files removed\n"
     ]
    }
   ],
   "source": [
    "remove_unneeded(path_births)\n",
    "remove_unneeded(path_deaths)\n",
    "remove_unneeded(path_fetals)"
   ]
  },
  {
   "cell_type": "markdown",
   "id": "6a196c32",
   "metadata": {},
   "source": [
    "**Renaming the files**"
   ]
  },
  {
   "cell_type": "code",
   "execution_count": 15,
   "id": "145c956d",
   "metadata": {},
   "outputs": [],
   "source": [
    "rename_files(path_births, 'Births_')\n",
    "rename_files(path_deaths, 'Deaths_')\n",
    "rename_files(path_fetals, 'Fetals_')"
   ]
  }
 ],
 "metadata": {
  "kernelspec": {
   "display_name": "Python 3 (ipykernel)",
   "language": "python",
   "name": "python3"
  },
  "language_info": {
   "codemirror_mode": {
    "name": "ipython",
    "version": 3
   },
   "file_extension": ".py",
   "mimetype": "text/x-python",
   "name": "python",
   "nbconvert_exporter": "python",
   "pygments_lexer": "ipython3",
   "version": "3.10.5"
  }
 },
 "nbformat": 4,
 "nbformat_minor": 5
}
