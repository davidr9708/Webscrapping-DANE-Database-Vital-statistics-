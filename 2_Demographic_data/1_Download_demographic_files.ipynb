{
 "cells": [
  {
   "cell_type": "markdown",
   "id": "36de5d87",
   "metadata": {},
   "source": [
    "**1. Libraries**"
   ]
  },
  {
   "cell_type": "code",
   "execution_count": null,
   "id": "c57a2831",
   "metadata": {},
   "outputs": [],
   "source": [
    "from requests_html import HTMLSession\n",
    "import pandas as pd\n",
    "import re, os, urllib, shutil"
   ]
  },
  {
   "cell_type": "markdown",
   "id": "3cdde662",
   "metadata": {},
   "source": [
    "**2. Directories**"
   ]
  },
  {
   "cell_type": "code",
   "execution_count": null,
   "id": "6cfe719b",
   "metadata": {},
   "outputs": [],
   "source": [
    "## Creating directories\n",
    "path_raw = os.path.join(os.getcwd(), 'Projections')\n",
    "path_national = os.path.join(path_raw, 'National')\n",
    "path_departmental = os.path.join(path_raw, 'Departmental')\n",
    "path_municipal = os.path.join(path_raw, 'Municipal')\n",
    "if os.path.exists(path_raw) == False: \n",
    "    os.mkdir(path_raw)\n",
    "if os.path.exists(path_national) == False: \n",
    "    os.mkdir(path_national)\n",
    "if os.path.exists(path_departmental) == False: \n",
    "    os.mkdir(path_departmental)\n",
    "if os.path.exists(path_municipal) == False: \n",
    "    os.mkdir(path_municipal)"
   ]
  },
  {
   "cell_type": "markdown",
   "id": "721f2727",
   "metadata": {},
   "source": [
    "**3. Connecting**"
   ]
  },
  {
   "cell_type": "code",
   "execution_count": null,
   "id": "bd07e88b",
   "metadata": {},
   "outputs": [],
   "source": [
    "session = HTMLSession()"
   ]
  },
  {
   "cell_type": "code",
   "execution_count": null,
   "id": "86ca0da4",
   "metadata": {},
   "outputs": [],
   "source": [
    "url = 'https://www.dane.gov.co/index.php/estadisticas-por-tema/demografia-y-poblacion/proyecciones-de-poblacion'"
   ]
  },
  {
   "cell_type": "code",
   "execution_count": null,
   "id": "73d90fb0",
   "metadata": {},
   "outputs": [],
   "source": [
    "response = session.get(url)"
   ]
  },
  {
   "cell_type": "markdown",
   "id": "9af4b85d",
   "metadata": {},
   "source": [
    "**3.1 Scrapping**"
   ]
  },
  {
   "cell_type": "code",
   "execution_count": null,
   "id": "393ba73d",
   "metadata": {},
   "outputs": [],
   "source": [
    "links = response.html.absolute_links"
   ]
  },
  {
   "cell_type": "code",
   "execution_count": null,
   "id": "e623768c",
   "metadata": {},
   "outputs": [],
   "source": [
    "National = list()\n",
    "Departmental = list()\n",
    "Municipal = list()\n",
    "for link in links:\n",
    "    if re.search('anexo-(area-sexo-edad-)*proyecciones-poblacion-Nacional[0-9]{4}_[0-9]{4}.xlsx$', link):\n",
    "        National.append(link)\n",
    "        continue\n",
    "    if re.search('anexo-(area-sexo-edad-)*proyecciones-poblacion-departamental_[0-9]{4}-[0-9]{4}.xlsx$', link):\n",
    "        Departmental.append(link)\n",
    "        continue\n",
    "    if re.search('anexo-(area-sexo-edad-)*proyecciones-poblacion-Municipal_[0-9]{4}-[0-9]{4}.xlsx$', link):\n",
    "        Municipal.append(link)\n",
    "        continue"
   ]
  },
  {
   "cell_type": "markdown",
   "id": "c89b801b",
   "metadata": {},
   "source": [
    "**3.2 Download and export**"
   ]
  },
  {
   "cell_type": "code",
   "execution_count": null,
   "id": "9f6d11fc",
   "metadata": {},
   "outputs": [],
   "source": [
    "def get_csv(links, pattern, path_level,csv_name):\n",
    "    df_all = pd.DataFrame()\n",
    "    paths = list()\n",
    "    \n",
    "    for web in links:\n",
    "            name = re.findall(pattern, web)[0]\n",
    "            path_doc = os.path.join(path_level, name)\n",
    "            paths.append(path_doc)\n",
    "            \n",
    "    for path in paths:\n",
    "        if os.path.isfile(path) == False:\n",
    "            print('Reading', path)\n",
    "            urllib.request.urlretrieve(web, path)\n",
    "        print('File downloaded')\n",
    "        current = pd.read_excel(path, skiprows=11)\n",
    "        print(current.head(2))\n",
    "        df_all = pd.concat([df_all, current]).reset_index(drop=True)\n",
    "        print(name, 'read')\n",
    "    \n",
    "    cols_to_split = df_all.loc[:,'Hombres_0':].columns.values\n",
    "    ids = df_all.loc[:,:'ÁREA GEOGRÁFICA'].columns.values\n",
    "    print('ids and split identified')\n",
    "    new_all = pd.melt(df_all, id_vars =ids, value_vars =cols_to_split, var_name ='Sexo_edad', value_name ='No_personas')\n",
    "\n",
    "    print('col to row')\n",
    "    new_all[[\"Sexo\", \"Edad\"]] = new_all.Sexo_edad.str.split(pat='_', n = 1, expand = True)\n",
    "    print('sex and age splited')\n",
    "    new_all.drop(columns=['Sexo_edad'])\n",
    "    \n",
    "    new_all.to_csv(csv_name, encoding='utf-8-sig', index=False)"
   ]
  },
  {
   "cell_type": "code",
   "execution_count": null,
   "id": "a7a52609",
   "metadata": {},
   "outputs": [],
   "source": [
    "get_csv(National, \"Nacional[0-9]{4}_[0-9]{4}.xlsx$\", path_national, 'Projections\\\\National.csv')"
   ]
  },
  {
   "cell_type": "code",
   "execution_count": null,
   "id": "ac81af1a",
   "metadata": {},
   "outputs": [],
   "source": [
    "get_csv(Departmental, \"departamental_[0-9]{4}-[0-9]{4}.xlsx$\", path_departmental, 'Projections\\\\Departmental.csv')"
   ]
  },
  {
   "cell_type": "code",
   "execution_count": null,
   "id": "2b40c1a5",
   "metadata": {},
   "outputs": [],
   "source": [
    "get_csv(Municipal, \"Municipal_[0-9]{4}-[0-9]{4}.xlsx$\", path_municipal,'Projections\\\\Municipal.csv')"
   ]
  },
  {
   "cell_type": "markdown",
   "id": "e5dc39eb",
   "metadata": {},
   "source": [
    "**4. Remove directories**"
   ]
  },
  {
   "cell_type": "code",
   "execution_count": null,
   "id": "04c7c778",
   "metadata": {},
   "outputs": [],
   "source": [
    "shutil.rmtree(path_national)\n",
    "shutil.rmtree(path_departmental)\n",
    "shutil.rmtree(path_municipal)"
   ]
  }
 ],
 "metadata": {
  "kernelspec": {
   "display_name": "Python 3 (ipykernel)",
   "language": "python",
   "name": "python3"
  },
  "language_info": {
   "codemirror_mode": {
    "name": "ipython",
    "version": 3
   },
   "file_extension": ".py",
   "mimetype": "text/x-python",
   "name": "python",
   "nbconvert_exporter": "python",
   "pygments_lexer": "ipython3",
   "version": "3.10.5"
  }
 },
 "nbformat": 4,
 "nbformat_minor": 5
}
