{
 "cells": [
  {
   "cell_type": "markdown",
   "id": "36de5d87",
   "metadata": {},
   "source": [
    "**1. Libraries**"
   ]
  },
  {
   "cell_type": "code",
   "execution_count": 1,
   "id": "c57a2831",
   "metadata": {},
   "outputs": [],
   "source": [
    "from requests_html import HTMLSession\n",
    "import pandas as pd\n",
    "import re, os, urllib, shutil\n",
    "import pandas as pd\n",
    "import sqlite3\n",
    "import unidecode"
   ]
  },
  {
   "cell_type": "markdown",
   "id": "721f2727",
   "metadata": {},
   "source": [
    "**2. Connecting**"
   ]
  },
  {
   "cell_type": "code",
   "execution_count": 2,
   "id": "bd07e88b",
   "metadata": {},
   "outputs": [],
   "source": [
    "session = HTMLSession()"
   ]
  },
  {
   "cell_type": "code",
   "execution_count": 3,
   "id": "86ca0da4",
   "metadata": {},
   "outputs": [],
   "source": [
    "url = 'https://www.colombia.com/colombia-info/departamentos/'"
   ]
  },
  {
   "cell_type": "code",
   "execution_count": 4,
   "id": "73d90fb0",
   "metadata": {},
   "outputs": [],
   "source": [
    "response = session.get(url)"
   ]
  },
  {
   "cell_type": "markdown",
   "id": "9af4b85d",
   "metadata": {},
   "source": [
    "**3. Scrapping**"
   ]
  },
  {
   "cell_type": "code",
   "execution_count": 5,
   "id": "857420ce",
   "metadata": {},
   "outputs": [],
   "source": [
    "caja_informacion = response.html.find('div[class = caja-informacion]')"
   ]
  },
  {
   "cell_type": "code",
   "execution_count": 6,
   "id": "46948a59",
   "metadata": {},
   "outputs": [],
   "source": [
    "def replace_all(text, dic):\n",
    "    for i, j in dic.iteritems():\n",
    "        text = text.replace(i, j)\n",
    "    return text"
   ]
  },
  {
   "cell_type": "code",
   "execution_count": 7,
   "id": "f50cbddc",
   "metadata": {},
   "outputs": [
    {
     "name": "stdout",
     "output_type": "stream",
     "text": [
      "Region: Andina\n",
      "                Antioquia\n",
      "                Boyacá\n",
      "                Caldas\n",
      "                Cundinamarca\n",
      "                Huila\n",
      "                Norte de santander\n",
      "                Quindío\n",
      "                Risaralda\n",
      "                Santander\n",
      "                Tolima\n",
      "Region: Amazonica\n",
      "                Amazonas\n",
      "                Caquetá\n",
      "                Guainía\n",
      "                Guaviare\n",
      "                Putumayo\n",
      "                Vaupés\n",
      "Region: Caribe\n",
      "                Atlántico\n",
      "                Bolívar\n",
      "                Cesar\n",
      "                Córdoba\n",
      "                La guajira\n",
      "                Magdalena\n",
      "                Archipiélago de san andrés. providencia y santa catalina\n",
      "                Sucre\n",
      "Region: Pacifica\n",
      "                Cauca\n",
      "                Chocó\n",
      "                Nariño\n",
      "                Valle del cauca\n",
      "Region: Orinoquia\n",
      "                Arauca\n",
      "                Casanare\n",
      "                Meta\n",
      "                Vichada\n"
     ]
    }
   ],
   "source": [
    "link_city = \"a[href ^= '/colombia-info/departamentos/region-\"\n",
    "con = sqlite3.connect('Colombia_Demographic_data.sqlite', timeout=30)\n",
    "cur = con.cursor()\n",
    "for caja in caja_informacion:\n",
    "    try:\n",
    "        region = caja.find(\"a[href ^= '/colombia-info/departamentos/']\")[0].text.capitalize()\n",
    "        if len(region)>16:\n",
    "            region = region[13:]\n",
    "            region = unidecode.unidecode(region)\n",
    "            condition = \"\".join([link_city, region,\"/']\"])\n",
    "            region = region.capitalize()\n",
    "            cities = caja.find(condition)\n",
    "\n",
    "            \n",
    "        else:\n",
    "            region = region[7:]\n",
    "            region = unidecode.unidecode(region)\n",
    "            condition = \"\".join([link_city, region,\"/']\"])\n",
    "            region = region.capitalize()\n",
    "            cities = caja.find(condition)\n",
    "\n",
    "        \n",
    "\n",
    "\n",
    "        insert_region = 'INSERT INTO Region(name) VALUES'\n",
    "        insert_region += '('\n",
    "        insert_region += '\"'+str(region) + '\"'+'),('\n",
    "        insert_region = insert_region[:-2] +';'\n",
    "        cur.execute(insert_region)\n",
    "        print('Region:', region)\n",
    "        \n",
    "        for city in cities[1:]:\n",
    "            update_department = 'UPDATE Departamento SET  region_id ='\n",
    "            try:\n",
    "                city2 = city.text.capitalize()\n",
    "                select_query = 'SELECT id FROM '\n",
    "                select_query += 'Region' + ' WHERE name = ? ;'\n",
    "                cur.execute(select_query, (region, ))\n",
    "                region_id = cur.fetchone()[0]\n",
    "                if city2 == 'San andrés y providencia':\n",
    "                    city2 = \"Archipiélago de san andrés. providencia y santa catalina\"\n",
    "                update_department += '\"'+str(region_id) + '\"'+' WHERE Departamento.name = ?;'\n",
    "                cur.execute(update_department, (city2, ))\n",
    "\n",
    "                \n",
    "                con.commit()\n",
    "                print(\"               \",city2)\n",
    "            except:\n",
    "                continue\n",
    "            \n",
    "    except: \n",
    "        continue\n",
    "        \n",
    "# Updating Bogotá\n",
    "select_query = 'SELECT id FROM Region WHERE name = \"Andina\" ;'\n",
    "cur.execute(select_query)\n",
    "region_id = cur.fetchone()[0]\n",
    "update_department = 'UPDATE Departamento SET  region_id =' + str(region_id) +' WHERE Departamento.name = \"Bogotá. d.c.\";'\n",
    "cur.execute(update_department)\n",
    "con.close()"
   ]
  }
 ],
 "metadata": {
  "kernelspec": {
   "display_name": "Python 3 (ipykernel)",
   "language": "python",
   "name": "python3"
  },
  "language_info": {
   "codemirror_mode": {
    "name": "ipython",
    "version": 3
   },
   "file_extension": ".py",
   "mimetype": "text/x-python",
   "name": "python",
   "nbconvert_exporter": "python",
   "pygments_lexer": "ipython3",
   "version": "3.10.5"
  }
 },
 "nbformat": 4,
 "nbformat_minor": 5
}
