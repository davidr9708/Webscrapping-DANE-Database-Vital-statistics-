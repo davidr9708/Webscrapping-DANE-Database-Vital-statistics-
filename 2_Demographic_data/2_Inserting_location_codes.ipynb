{
 "cells": [
  {
   "cell_type": "markdown",
   "id": "fd0768e0",
   "metadata": {},
   "source": [
    "**Libraries**"
   ]
  },
  {
   "cell_type": "code",
   "execution_count": 1,
   "id": "d815680c",
   "metadata": {},
   "outputs": [],
   "source": [
    "import pandas as pd\n",
    "import sqlite3"
   ]
  },
  {
   "cell_type": "markdown",
   "id": "d22c6f32",
   "metadata": {},
   "source": [
    "**Screapping municipios and departamentos codes**"
   ]
  },
  {
   "cell_type": "code",
   "execution_count": 2,
   "id": "5578410a",
   "metadata": {},
   "outputs": [],
   "source": [
    "url = 'https://datos.gov.co/api/views/gdxc-w37w/rows.csv?accessType=DOWNLOAD&bom=true&format=true&delimiter=%3B'\n",
    "municipios = pd.read_csv(url, sep= ';', dtype = str)[0:1121]"
   ]
  },
  {
   "cell_type": "code",
   "execution_count": 3,
   "id": "2c6ad2c0",
   "metadata": {},
   "outputs": [],
   "source": [
    "municipios.columns = ['cod_depto', 'cod_mpio', 'dpto', 'nom_mpio', 'tipo']"
   ]
  },
  {
   "cell_type": "markdown",
   "id": "c0908dbc",
   "metadata": {},
   "source": [
    "**Connecting to database**"
   ]
  },
  {
   "cell_type": "code",
   "execution_count": 4,
   "id": "22ad5af1",
   "metadata": {},
   "outputs": [],
   "source": [
    "con = sqlite3.connect('Colombia_Demographic_data.sqlite')\n",
    "cur = con.cursor()"
   ]
  },
  {
   "cell_type": "markdown",
   "id": "63f4028d",
   "metadata": {},
   "source": [
    "**Insert department**"
   ]
  },
  {
   "cell_type": "code",
   "execution_count": 5,
   "id": "42d40de2",
   "metadata": {},
   "outputs": [],
   "source": [
    "insert_depto = 'INSERT INTO Departamento(id, name) VALUES(\"00\", \"Nacional\"),'\n",
    "\n",
    "insert_depto += '('\n",
    "\n",
    "for cod_depto in municipios['cod_depto'].unique():\n",
    "    dept = municipios['dpto'][municipios['cod_depto'] == cod_depto].unique()\n",
    "    insert_depto += '\"'+str(cod_depto) + '\"'+ ',' + '\"'+str(dept[0].capitalize()) + '\"' + '),('\n",
    "insert_depto = insert_depto[:-2] +';'"
   ]
  },
  {
   "cell_type": "code",
   "execution_count": 6,
   "id": "c762ca3c",
   "metadata": {},
   "outputs": [],
   "source": [
    "cur.execute(insert_depto)\n",
    "con.commit()"
   ]
  },
  {
   "cell_type": "markdown",
   "id": "628406a7",
   "metadata": {},
   "source": [
    "**Insert municipio type**"
   ]
  },
  {
   "cell_type": "code",
   "execution_count": 7,
   "id": "1ccf2794",
   "metadata": {},
   "outputs": [],
   "source": [
    "insert_tipo_mpio = 'INSERT INTO Tipo_municipio(name) VALUES'\n",
    "\n",
    "insert_tipo_mpio += '('\n",
    "\n",
    "for tipo in municipios['tipo'].unique():\n",
    "    insert_tipo_mpio += '\"'+str(tipo) + '\"' + '),('\n",
    "    \n",
    "insert_tipo_mpio = insert_tipo_mpio[:-2] +';'"
   ]
  },
  {
   "cell_type": "code",
   "execution_count": 8,
   "id": "4ea9853d",
   "metadata": {},
   "outputs": [],
   "source": [
    "cur.execute(insert_tipo_mpio)\n",
    "con.commit()"
   ]
  },
  {
   "cell_type": "markdown",
   "id": "0f5cb8bc",
   "metadata": {},
   "source": [
    "**Insert municipio**"
   ]
  },
  {
   "cell_type": "code",
   "execution_count": 9,
   "id": "3e16a92f",
   "metadata": {
    "scrolled": true
   },
   "outputs": [],
   "source": [
    "insert_mpio = 'INSERT INTO Municipio(id, name, departamento_id, tipo_mpio_id) VALUES'\n",
    "\n",
    "insert_mpio += '('\n",
    "\n",
    "for cod_mpio in municipios['cod_mpio'].unique():\n",
    "    mpio = municipios['nom_mpio'][municipios['cod_mpio'] == cod_mpio].unique()\n",
    "    dept = municipios['cod_depto'][municipios['cod_mpio'] == cod_mpio].unique()\n",
    "    tipo = municipios['tipo'][municipios['cod_mpio'] == cod_mpio].unique()[0]\n",
    "    \n",
    "    select_query = 'SELECT id FROM '\n",
    "    select_query += 'Tipo_municipio' + ' WHERE name = ? ;'\n",
    "    cur.execute(select_query, (tipo, ))\n",
    "    \n",
    "    try:\n",
    "        type_id = cur.fetchone()[0]\n",
    "    except:\n",
    "        type_id = 'NULL'\n",
    "        \n",
    "    insert_mpio += '\"'+str(cod_mpio) + '\"'+ ',' + '\"'+str(mpio[0].capitalize()) + '\"'+ ',' +'\"'+ str(dept[0].capitalize()) + '\"' + ',' +'\"'+ str(type_id) + '\"''),('\n",
    "insert_mpio = insert_mpio[:-2] +';'"
   ]
  },
  {
   "cell_type": "code",
   "execution_count": 10,
   "id": "791a133c",
   "metadata": {},
   "outputs": [],
   "source": [
    "cur.execute(insert_mpio)\n",
    "con.commit()"
   ]
  },
  {
   "cell_type": "markdown",
   "id": "c11f0cfc",
   "metadata": {},
   "source": [
    "**Disconnecting to the database**"
   ]
  },
  {
   "cell_type": "code",
   "execution_count": 11,
   "id": "57436527",
   "metadata": {},
   "outputs": [],
   "source": [
    "con.close()"
   ]
  }
 ],
 "metadata": {
  "kernelspec": {
   "display_name": "Python 3 (ipykernel)",
   "language": "python",
   "name": "python3"
  },
  "language_info": {
   "codemirror_mode": {
    "name": "ipython",
    "version": 3
   },
   "file_extension": ".py",
   "mimetype": "text/x-python",
   "name": "python",
   "nbconvert_exporter": "python",
   "pygments_lexer": "ipython3",
   "version": "3.11.2"
  }
 },
 "nbformat": 4,
 "nbformat_minor": 5
}
