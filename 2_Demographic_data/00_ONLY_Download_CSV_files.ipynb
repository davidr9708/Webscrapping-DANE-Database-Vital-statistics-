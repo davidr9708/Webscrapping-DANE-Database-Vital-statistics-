{
 "cells": [
  {
   "cell_type": "markdown",
   "id": "36de5d87",
   "metadata": {},
   "source": [
    "**1. Libraries**"
   ]
  },
  {
   "cell_type": "code",
   "execution_count": 1,
   "id": "c57a2831",
   "metadata": {},
   "outputs": [],
   "source": [
    "from requests_html import HTMLSession\n",
    "import pandas as pd\n",
    "import re, os, urllib, shutil"
   ]
  },
  {
   "cell_type": "markdown",
   "id": "3cdde662",
   "metadata": {},
   "source": [
    "**2. Directories**"
   ]
  },
  {
   "cell_type": "code",
   "execution_count": 2,
   "id": "6cfe719b",
   "metadata": {},
   "outputs": [],
   "source": [
    "## Creating directories\n",
    "path_raw = os.path.join(os.getcwd(), 'Projections')\n",
    "path_national = os.path.join(path_raw, 'National')\n",
    "path_departmental = os.path.join(path_raw, 'Departmental')\n",
    "path_municipal = os.path.join(path_raw, 'Municipal')\n",
    "if os.path.exists(path_raw) == False: \n",
    "    os.mkdir(path_raw)\n",
    "if os.path.exists(path_national) == False: \n",
    "    os.mkdir(path_national)\n",
    "if os.path.exists(path_departmental) == False: \n",
    "    os.mkdir(path_departmental)\n",
    "if os.path.exists(path_municipal) == False: \n",
    "    os.mkdir(path_municipal)"
   ]
  },
  {
   "cell_type": "markdown",
   "id": "721f2727",
   "metadata": {},
   "source": [
    "**3. Connecting**"
   ]
  },
  {
   "cell_type": "code",
   "execution_count": 3,
   "id": "bd07e88b",
   "metadata": {},
   "outputs": [],
   "source": [
    "session = HTMLSession()"
   ]
  },
  {
   "cell_type": "code",
   "execution_count": 4,
   "id": "86ca0da4",
   "metadata": {},
   "outputs": [],
   "source": [
    "url = 'https://www.dane.gov.co/index.php/estadisticas-por-tema/demografia-y-poblacion/proyecciones-de-poblacion'"
   ]
  },
  {
   "cell_type": "code",
   "execution_count": 5,
   "id": "73d90fb0",
   "metadata": {},
   "outputs": [],
   "source": [
    "response = session.get(url)"
   ]
  },
  {
   "cell_type": "markdown",
   "id": "9af4b85d",
   "metadata": {},
   "source": [
    "**3.1 Scrapping**"
   ]
  },
  {
   "cell_type": "code",
   "execution_count": 6,
   "id": "393ba73d",
   "metadata": {},
   "outputs": [],
   "source": [
    "links = response.html.absolute_links"
   ]
  },
  {
   "cell_type": "code",
   "execution_count": 7,
   "id": "e623768c",
   "metadata": {},
   "outputs": [],
   "source": [
    "National = list()\n",
    "Departmental = list()\n",
    "Municipal = list()\n",
    "for link in links:\n",
    "    if re.search('DCD-area-sexo-edad-proypoblacion-Nac-[0-9]{4}-[0-9]{4}.xlsx$', link):\n",
    "        National.append(link)\n",
    "        continue\n",
    "    if re.search('DCD-area-sexo-edad-proye*poblacion-dep-[0-9]{4}-[0-9]{4}.*\\.xlsx$', link):\n",
    "        Departmental.append(link)\n",
    "        continue\n",
    "    if re.search('DCD-area-sexo-edad-proye*poblacion-Mun-[0-9]{4}-[0-9]{4}.*\\.xlsx$', link):\n",
    "        Municipal.append(link)\n",
    "        continue"
   ]
  },
  {
   "cell_type": "markdown",
   "id": "c89b801b",
   "metadata": {},
   "source": [
    "**3.2 Download and export**"
   ]
  },
  {
   "cell_type": "code",
   "execution_count": 8,
   "id": "9f6d11fc",
   "metadata": {},
   "outputs": [],
   "source": [
    "def get_csv(links, pattern, path_level,csv_name):\n",
    "    df_all = pd.DataFrame()\n",
    "    for web in links:\n",
    "            name = re.findall(pattern, web)[0]\n",
    "            path = os.path.join(path_level, name)\n",
    "            \n",
    "            if os.path.isfile(path) == False:\n",
    "                print('Reading', path)\n",
    "                urllib.request.urlretrieve(web, path)\n",
    "            print('File downloaded')\n",
    "            current = pd.read_excel(path, skiprows=11, dtype=str)\n",
    "            # Find the index of the row where the table ends\n",
    "            end_index = None\n",
    "            for i, row in current.iterrows():\n",
    "                if pd.isnull(row[0]):  # Assuming the first column is used to determine the end of the table\n",
    "                    end_index = i\n",
    "                    break\n",
    "\n",
    "            # Filter out the unwanted rows\n",
    "            if end_index is not None:\n",
    "                current = current.iloc[:end_index]\n",
    "            print(current.head(2))\n",
    "            df_all = pd.concat([df_all, current]).reset_index(drop=True)\n",
    "            print(name, 'read')\n",
    "    \n",
    "    cols_to_split = df_all.loc[:,'Hombres_0':].columns.values\n",
    "    ids = df_all.loc[:,:'ÁREA GEOGRÁFICA'].columns.values\n",
    "    print('ids and split identified')\n",
    "    new_all = pd.melt(df_all, id_vars =ids, value_vars =cols_to_split, var_name ='Sexo_edad', value_name ='No_personas')\n",
    "    new_all = new_all.rename(columns={'ÁREA GEOGRÁFICA': 'Area'})\n",
    "\n",
    "    print('col to row')\n",
    "    new_all[[\"Sexo\", \"Edad\"]] = new_all.Sexo_edad.str.split(pat='_', n = 1, expand = True)\n",
    "    print('sex and age splited')\n",
    "    new_all = new_all.drop(columns=['DPNOM','Sexo_edad'])\n",
    "    \n",
    "    new_all.to_csv(csv_name, encoding='utf-8-sig', index=False)"
   ]
  },
  {
   "cell_type": "code",
   "execution_count": 9,
   "id": "a7a52609",
   "metadata": {},
   "outputs": [
    {
     "name": "stdout",
     "output_type": "stream",
     "text": [
      "Reading C:\\Users\\romer\\Documents\\Projects\\2_Demographic_data\\Projections\\National\\Nac-2020-2070.xlsx\n",
      "File downloaded\n",
      "   DP           DPNOM   AÑO                    ÁREA GEOGRÁFICA Hombres_0  \\\n",
      "0  00  Total Nacional  2020                           Cabecera    270528   \n",
      "1  00  Total Nacional  2020  Centros Poblados y Rural Disperso    117791   \n",
      "\n",
      "  Hombres_1 Hombres_2 Hombres_3 Hombres_4 Hombres_5  ... Total_94 Total_95  \\\n",
      "0    273271    277416    279302    280802    281974  ...    14749    12496   \n",
      "1    117443    117932    117746    117428    116950  ...     6167     5084   \n",
      "\n",
      "  Total_96 Total_97 Total_98 Total_99 Total_100 y más Total Hombres  \\\n",
      "0    10252     8304     6834     5878           18782      18312462   \n",
      "1     4206     3346     2304     2045            5084       6315052   \n",
      "\n",
      "  Total Mujeres     Total  \n",
      "0      19922767  38235229  \n",
      "1       5857366  12172418  \n",
      "\n",
      "[2 rows x 310 columns]\n",
      "Nac-2020-2070.xlsx read\n",
      "Reading C:\\Users\\romer\\Documents\\Projects\\2_Demographic_data\\Projections\\National\\Nac-1950-2019.xlsx\n",
      "File downloaded\n",
      "   DP     DPNOM   AÑO                    ÁREA GEOGRÁFICA Hombres_0 Hombres_1  \\\n",
      "0  00  Nacional  1950                           Cabecera     78665     73308   \n",
      "1  00  Nacional  1950  Centros Poblados y Rural Disperso    184737    170191   \n",
      "\n",
      "  Hombres_2 Hombres_3 Hombres_4 Hombres_5  ... Total_94 Total_95 Total_96  \\\n",
      "0     70757     68626     66636     64726  ...      121       57       24   \n",
      "1    162832    156622    150955    145789  ...      234      109       45   \n",
      "\n",
      "  Total_97 Total_98 Total_99 Total_100 Total Hombres Total Mujeres    Total  \n",
      "0        9        3        1       873       2433730       2757803  5191533  \n",
      "1       18        6        3      1044       4931650       3447760  8379410  \n",
      "\n",
      "[2 rows x 310 columns]\n",
      "Nac-1950-2019.xlsx read\n",
      "ids and split identified\n",
      "col to row\n",
      "sex and age splited\n"
     ]
    }
   ],
   "source": [
    "get_csv(National, \"Nac-[0-9]{4}-[0-9]{4}.xlsx$\", path_national, 'Projections\\\\National.csv')"
   ]
  },
  {
   "cell_type": "code",
   "execution_count": 10,
   "id": "ac81af1a",
   "metadata": {},
   "outputs": [
    {
     "name": "stdout",
     "output_type": "stream",
     "text": [
      "Reading C:\\Users\\romer\\Documents\\Projects\\2_Demographic_data\\Projections\\Departmental\\dep-1985-1992.xlsx\n",
      "File downloaded\n",
      "   DP      DPNOM   AÑO                    ÁREA GEOGRÁFICA Hombres_0 Hombres_1  \\\n",
      "0  05  Antioquia  1985                           Cabecera     26387     26250   \n",
      "1  05  Antioquia  1985  Centros Poblados y Rural Disperso     22738     22154   \n",
      "\n",
      "  Hombres_2 Hombres_3 Hombres_4 Hombres_5  ... Total_94 Total_95 Total_96  \\\n",
      "0     26238     26189     25979     25463  ...      995      872      707   \n",
      "1     21745     21324     20742     19954  ...      504      407      351   \n",
      "\n",
      "  Total_97 Total_98 Total_99 Total_100 y más Total Hombres Total Mujeres  \\\n",
      "0      567      439      271             581       1232924       1324913   \n",
      "1      270      177      125             209        744430        692717   \n",
      "\n",
      "     Total  \n",
      "0  2557837  \n",
      "1  1437147  \n",
      "\n",
      "[2 rows x 310 columns]\n",
      "dep-1985-1992.xlsx read\n",
      "Reading C:\\Users\\romer\\Documents\\Projects\\2_Demographic_data\\Projections\\Departmental\\dep-2005-2019.xlsx\n",
      "File downloaded\n",
      "   DP      DPNOM   AÑO                    ÁREA GEOGRÁFICA Hombres_0 Hombres_1  \\\n",
      "0  05  Antioquia  2005                           Cabecera     31263     32006   \n",
      "1  05  Antioquia  2005  Centros Poblados y Rural Disperso     17346     17392   \n",
      "\n",
      "  Hombres_2 Hombres_3 Hombres_4 Hombres_5  ... Total_94 Total_95 Total_96  \\\n",
      "0     32827     33689     34587     35538  ...      725      580      451   \n",
      "1     17518     17661     17781     17931  ...      221      164      136   \n",
      "\n",
      "  Total_97 Total_98 Total_99 Total_100 Total Hombres Total Mujeres  \\\n",
      "0      363      303      244       700       1893416       2143679   \n",
      "1      105       76       70       155        737371        686377   \n",
      "\n",
      "  Total general  \n",
      "0       4037095  \n",
      "1       1423748  \n",
      "\n",
      "[2 rows x 310 columns]\n",
      "dep-2005-2019.xlsx read\n",
      "Reading C:\\Users\\romer\\Documents\\Projects\\2_Demographic_data\\Projections\\Departmental\\dep-2020-2050-ActPostCOVID-19.xlsx\n",
      "File downloaded\n",
      "   DP      DPNOM   AÑO                    ÁREA GEOGRÁFICA Hombres_0 Hombres_1  \\\n",
      "0  05  Antioquia  2020                           Cabecera     31748     32329   \n",
      "1  05  Antioquia  2020  Centros Poblados y Rural Disperso     13576     13538   \n",
      "\n",
      "  Hombres_2 Hombres_3 Hombres_4 Hombres_5  ... Total_94 Total_95 Total_96  \\\n",
      "0     32894     33288     33642     33956  ...     1913     1632     1345   \n",
      "1     13528     13451     13334     13213  ...      487      383      339   \n",
      "\n",
      "  Total_97 Total_98 Total_99 Total_100 Total Hombres Total Mujeres  \\\n",
      "0     1099      928      807      2771       2485796       2764361   \n",
      "1      266      189      190       505        726105        673139   \n",
      "\n",
      "  Total general  \n",
      "0       5250157  \n",
      "1       1399244  \n",
      "\n",
      "[2 rows x 310 columns]\n",
      "dep-2020-2050-ActPostCOVID-19.xlsx read\n",
      "Reading C:\\Users\\romer\\Documents\\Projects\\2_Demographic_data\\Projections\\Departmental\\dep-1993-2004.xlsx\n",
      "File downloaded\n",
      "   DP      DPNOM   AÑO                    ÁREA GEOGRÁFICA Hombres_0 Hombres_1  \\\n",
      "0  05  Antioquia  1993                           Cabecera     32238     32222   \n",
      "1  05  Antioquia  1993  Centros Poblados y Rural Disperso     22937     22453   \n",
      "\n",
      "  Hombres_2 Hombres_3 Hombres_4 Hombres_5  ... Total_94 Total_95 Total_96  \\\n",
      "0     32128     31851     31459     31065  ...      508      434      354   \n",
      "1     21985     21413     20739     20101  ...      198      157      138   \n",
      "\n",
      "  Total_97 Total_98 Total_99 Total_100 y más Total Hombres Total Mujeres  \\\n",
      "0      294      255      206             640       1495855       1669650   \n",
      "1      110       81       77             182        747109        695260   \n",
      "\n",
      "     Total  \n",
      "0  3165505  \n",
      "1  1442369  \n",
      "\n",
      "[2 rows x 310 columns]\n",
      "dep-1993-2004.xlsx read\n",
      "ids and split identified\n",
      "col to row\n",
      "sex and age splited\n"
     ]
    }
   ],
   "source": [
    "get_csv(Departmental, \"dep-[0-9]{4}-[0-9]{4}.*\\.xlsx$\", path_departmental, 'Projections\\\\Departmental.csv')"
   ]
  },
  {
   "cell_type": "code",
   "execution_count": 12,
   "id": "2b40c1a5",
   "metadata": {},
   "outputs": [
    {
     "name": "stdout",
     "output_type": "stream",
     "text": [
      "File downloaded\n",
      "   DP      DPNOM   DPMP      MPIO   AÑO                    ÁREA GEOGRÁFICA  \\\n",
      "0  05  Antioquia  05001  Medellín  1995                 Cabecera Municipal   \n",
      "1  05  Antioquia  05001  Medellín  1995  Centros Poblados y Rural Disperso   \n",
      "\n",
      "  Hombres_0 Hombres_1 Hombres_2 Hombres_3  ... Total_79 Total_80 Total_81  \\\n",
      "0     16228     16363     16592     16586  ...     2789     2535     2309   \n",
      "1       681       663       653       636  ...       69       63       58   \n",
      "\n",
      "  Total_82 Total_83 Total_84 Total_85 y más Total Hombres Total Mujeres  \\\n",
      "0     2068     1810     1556           8346        789154        915073   \n",
      "1       53       48       43            280         25859         26675   \n",
      "\n",
      "  Total General  \n",
      "0       1704227  \n",
      "1         52534  \n",
      "\n",
      "[2 rows x 267 columns]\n",
      "Mun-1995-2004.xlsx read\n",
      "File downloaded\n",
      "   DP      DPNOM      DPMP   MPIO   AÑO                    ÁREA GEOGRÁFICA  \\\n",
      "0  05  Antioquia  Medellín  05001  2005                 Cabecera Municipal   \n",
      "1  05  Antioquia  Medellín  05001  2005  Centros Poblados y Rural Disperso   \n",
      "\n",
      "  Hombres_0 Hombres_1 Hombres_2 Hombres_3  ... Total_79 Total_80 Total_81  \\\n",
      "0     13812     14233     14680     15148  ...     4352     3944     3547   \n",
      "1       489       493       499       503  ...       83       76       67   \n",
      "\n",
      "  Total_82 Total_83 Total_84 Total_85 y más Total Hombres Total Mujeres  \\\n",
      "0     3132     2776     2540          12870        927942       1069821   \n",
      "1       60       52       48            231         23924         24654   \n",
      "\n",
      "  Total General  \n",
      "0       1997763  \n",
      "1         48578  \n",
      "\n",
      "[2 rows x 267 columns]\n",
      "Mun-2005-2019.xlsx read\n",
      "File downloaded\n",
      "   DP      DPNOM   DPMP      MPIO   AÑO                    ÁREA GEOGRÁFICA  \\\n",
      "0  05  Antioquia  05001  Medellín  1985                 Cabecera Municipal   \n",
      "1  05  Antioquia  05001  Medellín  1985  Centros Poblados y Rural Disperso   \n",
      "\n",
      "  Hombres_0 Hombres_1 Hombres_2 Hombres_3  ... Total_79 Total_80 Total_81  \\\n",
      "0     13945     13868     13854     13822  ...     1870     1764     1681   \n",
      "1       689       685       679       668  ...       68       63       59   \n",
      "\n",
      "  Total_82 Total_83 Total_84 Total_85 y más Total Hombres Total Mujeres  \\\n",
      "0     1592     1508     1417          11750        664721        729143   \n",
      "1       55       51       47            391         27773         28540   \n",
      "\n",
      "  Total General  \n",
      "0       1393864  \n",
      "1         56313  \n",
      "\n",
      "[2 rows x 267 columns]\n",
      "Mun-1985-1994.xlsx read\n",
      "File downloaded\n"
     ]
    },
    {
     "ename": "KeyError",
     "evalue": "0",
     "output_type": "error",
     "traceback": [
      "\u001b[1;31m---------------------------------------------------------------------------\u001b[0m",
      "\u001b[1;31mKeyError\u001b[0m                                  Traceback (most recent call last)",
      "File \u001b[1;32m~\\AppData\\Local\\Programs\\Python\\Python311\\Lib\\site-packages\\pandas\\core\\indexes\\base.py:3802\u001b[0m, in \u001b[0;36mIndex.get_loc\u001b[1;34m(self, key, method, tolerance)\u001b[0m\n\u001b[0;32m   3801\u001b[0m \u001b[38;5;28;01mtry\u001b[39;00m:\n\u001b[1;32m-> 3802\u001b[0m     \u001b[38;5;28;01mreturn\u001b[39;00m \u001b[38;5;28;43mself\u001b[39;49m\u001b[38;5;241;43m.\u001b[39;49m\u001b[43m_engine\u001b[49m\u001b[38;5;241;43m.\u001b[39;49m\u001b[43mget_loc\u001b[49m\u001b[43m(\u001b[49m\u001b[43mcasted_key\u001b[49m\u001b[43m)\u001b[49m\n\u001b[0;32m   3803\u001b[0m \u001b[38;5;28;01mexcept\u001b[39;00m \u001b[38;5;167;01mKeyError\u001b[39;00m \u001b[38;5;28;01mas\u001b[39;00m err:\n",
      "File \u001b[1;32m~\\AppData\\Local\\Programs\\Python\\Python311\\Lib\\site-packages\\pandas\\_libs\\index.pyx:138\u001b[0m, in \u001b[0;36mpandas._libs.index.IndexEngine.get_loc\u001b[1;34m()\u001b[0m\n",
      "File \u001b[1;32m~\\AppData\\Local\\Programs\\Python\\Python311\\Lib\\site-packages\\pandas\\_libs\\index.pyx:165\u001b[0m, in \u001b[0;36mpandas._libs.index.IndexEngine.get_loc\u001b[1;34m()\u001b[0m\n",
      "File \u001b[1;32mpandas\\_libs\\hashtable_class_helper.pxi:5745\u001b[0m, in \u001b[0;36mpandas._libs.hashtable.PyObjectHashTable.get_item\u001b[1;34m()\u001b[0m\n",
      "File \u001b[1;32mpandas\\_libs\\hashtable_class_helper.pxi:5753\u001b[0m, in \u001b[0;36mpandas._libs.hashtable.PyObjectHashTable.get_item\u001b[1;34m()\u001b[0m\n",
      "\u001b[1;31mKeyError\u001b[0m: 0",
      "\nThe above exception was the direct cause of the following exception:\n",
      "\u001b[1;31mKeyError\u001b[0m                                  Traceback (most recent call last)",
      "Cell \u001b[1;32mIn[12], line 1\u001b[0m\n\u001b[1;32m----> 1\u001b[0m \u001b[43mget_csv\u001b[49m\u001b[43m(\u001b[49m\u001b[43mMunicipal\u001b[49m\u001b[43m,\u001b[49m\u001b[43m \u001b[49m\u001b[38;5;124;43m\"\u001b[39;49m\u001b[38;5;124;43mMun-[0-9]\u001b[39;49m\u001b[38;5;132;43;01m{4}\u001b[39;49;00m\u001b[38;5;124;43m-[0-9]\u001b[39;49m\u001b[38;5;132;43;01m{4}\u001b[39;49;00m\u001b[38;5;124;43m.*\u001b[39;49m\u001b[38;5;124;43m\\\u001b[39;49m\u001b[38;5;124;43m.xlsx$\u001b[39;49m\u001b[38;5;124;43m\"\u001b[39;49m\u001b[43m,\u001b[49m\u001b[43m \u001b[49m\u001b[43mpath_municipal\u001b[49m\u001b[43m,\u001b[49m\u001b[38;5;124;43m'\u001b[39;49m\u001b[38;5;124;43mProjections\u001b[39;49m\u001b[38;5;130;43;01m\\\\\u001b[39;49;00m\u001b[38;5;124;43mMunicipal.csv\u001b[39;49m\u001b[38;5;124;43m'\u001b[39;49m\u001b[43m)\u001b[49m\n",
      "Cell \u001b[1;32mIn[8], line 15\u001b[0m, in \u001b[0;36mget_csv\u001b[1;34m(links, pattern, path_level, csv_name)\u001b[0m\n\u001b[0;32m     13\u001b[0m end_index \u001b[38;5;241m=\u001b[39m \u001b[38;5;28;01mNone\u001b[39;00m\n\u001b[0;32m     14\u001b[0m \u001b[38;5;28;01mfor\u001b[39;00m i, row \u001b[38;5;129;01min\u001b[39;00m current\u001b[38;5;241m.\u001b[39miterrows():\n\u001b[1;32m---> 15\u001b[0m     \u001b[38;5;28;01mif\u001b[39;00m pd\u001b[38;5;241m.\u001b[39misnull(\u001b[43mrow\u001b[49m\u001b[43m[\u001b[49m\u001b[38;5;241;43m0\u001b[39;49m\u001b[43m]\u001b[49m):  \u001b[38;5;66;03m# Assuming the first column is used to determine the end of the table\u001b[39;00m\n\u001b[0;32m     16\u001b[0m         end_index \u001b[38;5;241m=\u001b[39m i\n\u001b[0;32m     17\u001b[0m         \u001b[38;5;28;01mbreak\u001b[39;00m\n",
      "File \u001b[1;32m~\\AppData\\Local\\Programs\\Python\\Python311\\Lib\\site-packages\\pandas\\core\\series.py:981\u001b[0m, in \u001b[0;36mSeries.__getitem__\u001b[1;34m(self, key)\u001b[0m\n\u001b[0;32m    978\u001b[0m     \u001b[38;5;28;01mreturn\u001b[39;00m \u001b[38;5;28mself\u001b[39m\u001b[38;5;241m.\u001b[39m_values[key]\n\u001b[0;32m    980\u001b[0m \u001b[38;5;28;01melif\u001b[39;00m key_is_scalar:\n\u001b[1;32m--> 981\u001b[0m     \u001b[38;5;28;01mreturn\u001b[39;00m \u001b[38;5;28;43mself\u001b[39;49m\u001b[38;5;241;43m.\u001b[39;49m\u001b[43m_get_value\u001b[49m\u001b[43m(\u001b[49m\u001b[43mkey\u001b[49m\u001b[43m)\u001b[49m\n\u001b[0;32m    983\u001b[0m \u001b[38;5;28;01mif\u001b[39;00m is_hashable(key):\n\u001b[0;32m    984\u001b[0m     \u001b[38;5;66;03m# Otherwise index.get_value will raise InvalidIndexError\u001b[39;00m\n\u001b[0;32m    985\u001b[0m     \u001b[38;5;28;01mtry\u001b[39;00m:\n\u001b[0;32m    986\u001b[0m         \u001b[38;5;66;03m# For labels that don't resolve as scalars like tuples and frozensets\u001b[39;00m\n",
      "File \u001b[1;32m~\\AppData\\Local\\Programs\\Python\\Python311\\Lib\\site-packages\\pandas\\core\\series.py:1089\u001b[0m, in \u001b[0;36mSeries._get_value\u001b[1;34m(self, label, takeable)\u001b[0m\n\u001b[0;32m   1086\u001b[0m     \u001b[38;5;28;01mreturn\u001b[39;00m \u001b[38;5;28mself\u001b[39m\u001b[38;5;241m.\u001b[39m_values[label]\n\u001b[0;32m   1088\u001b[0m \u001b[38;5;66;03m# Similar to Index.get_value, but we do not fall back to positional\u001b[39;00m\n\u001b[1;32m-> 1089\u001b[0m loc \u001b[38;5;241m=\u001b[39m \u001b[38;5;28;43mself\u001b[39;49m\u001b[38;5;241;43m.\u001b[39;49m\u001b[43mindex\u001b[49m\u001b[38;5;241;43m.\u001b[39;49m\u001b[43mget_loc\u001b[49m\u001b[43m(\u001b[49m\u001b[43mlabel\u001b[49m\u001b[43m)\u001b[49m\n\u001b[0;32m   1090\u001b[0m \u001b[38;5;28;01mreturn\u001b[39;00m \u001b[38;5;28mself\u001b[39m\u001b[38;5;241m.\u001b[39mindex\u001b[38;5;241m.\u001b[39m_get_values_for_loc(\u001b[38;5;28mself\u001b[39m, loc, label)\n",
      "File \u001b[1;32m~\\AppData\\Local\\Programs\\Python\\Python311\\Lib\\site-packages\\pandas\\core\\indexes\\base.py:3804\u001b[0m, in \u001b[0;36mIndex.get_loc\u001b[1;34m(self, key, method, tolerance)\u001b[0m\n\u001b[0;32m   3802\u001b[0m     \u001b[38;5;28;01mreturn\u001b[39;00m \u001b[38;5;28mself\u001b[39m\u001b[38;5;241m.\u001b[39m_engine\u001b[38;5;241m.\u001b[39mget_loc(casted_key)\n\u001b[0;32m   3803\u001b[0m \u001b[38;5;28;01mexcept\u001b[39;00m \u001b[38;5;167;01mKeyError\u001b[39;00m \u001b[38;5;28;01mas\u001b[39;00m err:\n\u001b[1;32m-> 3804\u001b[0m     \u001b[38;5;28;01mraise\u001b[39;00m \u001b[38;5;167;01mKeyError\u001b[39;00m(key) \u001b[38;5;28;01mfrom\u001b[39;00m \u001b[38;5;21;01merr\u001b[39;00m\n\u001b[0;32m   3805\u001b[0m \u001b[38;5;28;01mexcept\u001b[39;00m \u001b[38;5;167;01mTypeError\u001b[39;00m:\n\u001b[0;32m   3806\u001b[0m     \u001b[38;5;66;03m# If we have a listlike key, _check_indexing_error will raise\u001b[39;00m\n\u001b[0;32m   3807\u001b[0m     \u001b[38;5;66;03m#  InvalidIndexError. Otherwise we fall through and re-raise\u001b[39;00m\n\u001b[0;32m   3808\u001b[0m     \u001b[38;5;66;03m#  the TypeError.\u001b[39;00m\n\u001b[0;32m   3809\u001b[0m     \u001b[38;5;28mself\u001b[39m\u001b[38;5;241m.\u001b[39m_check_indexing_error(key)\n",
      "\u001b[1;31mKeyError\u001b[0m: 0"
     ]
    }
   ],
   "source": [
    "get_csv(Municipal, \"Mun-[0-9]{4}-[0-9]{4}.*\\.xlsx$\", path_municipal,'Projections\\\\Municipal.csv')"
   ]
  },
  {
   "cell_type": "markdown",
   "id": "e5dc39eb",
   "metadata": {},
   "source": [
    "**4. Remove directories**"
   ]
  },
  {
   "cell_type": "code",
   "execution_count": null,
   "id": "04c7c778",
   "metadata": {},
   "outputs": [],
   "source": [
    "shutil.rmtree(path_national)\n",
    "shutil.rmtree(path_departmental)\n",
    "shutil.rmtree(path_municipal)"
   ]
  }
 ],
 "metadata": {
  "kernelspec": {
   "display_name": "Python 3 (ipykernel)",
   "language": "python",
   "name": "python3"
  },
  "language_info": {
   "codemirror_mode": {
    "name": "ipython",
    "version": 3
   },
   "file_extension": ".py",
   "mimetype": "text/x-python",
   "name": "python",
   "nbconvert_exporter": "python",
   "pygments_lexer": "ipython3",
   "version": "3.11.2"
  }
 },
 "nbformat": 4,
 "nbformat_minor": 5
}
