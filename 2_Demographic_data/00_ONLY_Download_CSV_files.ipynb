{
 "cells": [
  {
   "cell_type": "markdown",
   "id": "36de5d87",
   "metadata": {},
   "source": [
    "**1. Libraries**"
   ]
  },
  {
   "cell_type": "code",
   "execution_count": 1,
   "id": "c57a2831",
   "metadata": {},
   "outputs": [],
   "source": [
    "from requests_html import HTMLSession\n",
    "import pandas as pd\n",
    "import re, os, urllib, shutil"
   ]
  },
  {
   "cell_type": "markdown",
   "id": "3cdde662",
   "metadata": {},
   "source": [
    "**2. Directories**"
   ]
  },
  {
   "cell_type": "code",
   "execution_count": 2,
   "id": "6cfe719b",
   "metadata": {},
   "outputs": [],
   "source": [
    "## Creating directories\n",
    "path_raw = os.path.join(os.getcwd(), 'Projections')\n",
    "path_national = os.path.join(path_raw, 'National')\n",
    "path_departmental = os.path.join(path_raw, 'Departmental')\n",
    "path_municipal = os.path.join(path_raw, 'Municipal')\n",
    "if os.path.exists(path_raw) == False: \n",
    "    os.mkdir(path_raw)\n",
    "if os.path.exists(path_national) == False: \n",
    "    os.mkdir(path_national)\n",
    "if os.path.exists(path_departmental) == False: \n",
    "    os.mkdir(path_departmental)\n",
    "if os.path.exists(path_municipal) == False: \n",
    "    os.mkdir(path_municipal)"
   ]
  },
  {
   "cell_type": "markdown",
   "id": "721f2727",
   "metadata": {},
   "source": [
    "**3. Connecting**"
   ]
  },
  {
   "cell_type": "code",
   "execution_count": 3,
   "id": "bd07e88b",
   "metadata": {},
   "outputs": [],
   "source": [
    "session = HTMLSession()"
   ]
  },
  {
   "cell_type": "code",
   "execution_count": 4,
   "id": "86ca0da4",
   "metadata": {},
   "outputs": [],
   "source": [
    "url = 'https://www.dane.gov.co/index.php/estadisticas-por-tema/demografia-y-poblacion/proyecciones-de-poblacion'"
   ]
  },
  {
   "cell_type": "code",
   "execution_count": 5,
   "id": "73d90fb0",
   "metadata": {},
   "outputs": [],
   "source": [
    "response = session.get(url)"
   ]
  },
  {
   "cell_type": "markdown",
   "id": "9af4b85d",
   "metadata": {},
   "source": [
    "**3.1 Scrapping**"
   ]
  },
  {
   "cell_type": "code",
   "execution_count": 6,
   "id": "393ba73d",
   "metadata": {},
   "outputs": [],
   "source": [
    "links = response.html.absolute_links"
   ]
  },
  {
   "cell_type": "code",
   "execution_count": 7,
   "id": "e623768c",
   "metadata": {},
   "outputs": [],
   "source": [
    "National = list()\n",
    "Departmental = list()\n",
    "Municipal = list()\n",
    "for link in links:\n",
    "    if re.search('DCD-area-sexo-edad-proypoblacion-Nac-[0-9]{4}-[0-9]{4}.xlsx$', link):\n",
    "        National.append(link)\n",
    "        continue\n",
    "    if re.search('DCD-area-sexo-edad-proypoblacion-dep-[0-9]{4}-[0-9]{4}.xlsx$', link):\n",
    "        Departmental.append(link)\n",
    "        continue\n",
    "    if re.search('DCD-area-sexo-edad-proypoblacion-Mun-[0-9]{4}-[0-9]{4}.xlsx$', link):\n",
    "        Municipal.append(link)\n",
    "        continue"
   ]
  },
  {
   "cell_type": "markdown",
   "id": "c89b801b",
   "metadata": {},
   "source": [
    "**3.2 Download and export**"
   ]
  },
  {
   "cell_type": "code",
   "execution_count": 8,
   "id": "9f6d11fc",
   "metadata": {},
   "outputs": [],
   "source": [
    "def get_csv(links, pattern, path_level,csv_name):\n",
    "    df_all = pd.DataFrame()\n",
    "    for web in links:\n",
    "            name = re.findall(pattern, web)[0]\n",
    "            path = os.path.join(path_level, name)\n",
    "            \n",
    "            if os.path.isfile(path) == False:\n",
    "                print('Reading', path)\n",
    "                urllib.request.urlretrieve(web, path)\n",
    "            print('File downloaded')\n",
    "            current = pd.read_excel(path, skiprows=11)\n",
    "            print(current.head(2))\n",
    "            df_all = pd.concat([df_all, current]).reset_index(drop=True)\n",
    "            print(name, 'read')\n",
    "    \n",
    "    cols_to_split = df_all.loc[:,'Hombres_0':].columns.values\n",
    "    ids = df_all.loc[:,:'ÁREA GEOGRÁFICA'].columns.values\n",
    "    print('ids and split identified')\n",
    "    new_all = pd.melt(df_all, id_vars =ids, value_vars =cols_to_split, var_name ='Sexo_edad', value_name ='No_personas')\n",
    "\n",
    "    print('col to row')\n",
    "    new_all[[\"Sexo\", \"Edad\"]] = new_all.Sexo_edad.str.split(pat='_', n = 1, expand = True)\n",
    "    print('sex and age splited')\n",
    "    new_all.drop(columns=['Sexo_edad'])\n",
    "    \n",
    "    new_all.to_csv(csv_name, encoding='utf-8-sig', index=False)"
   ]
  },
  {
   "cell_type": "code",
   "execution_count": 9,
   "id": "a7a52609",
   "metadata": {},
   "outputs": [
    {
     "name": "stdout",
     "output_type": "stream",
     "text": [
      "Reading C:\\Users\\romer\\Documents\\Projects\\2_Demographic_data\\Projections\\National\\Nac-1950-2019.xlsx\n",
      "File downloaded\n",
      "    DP     DPNOM     AÑO                    ÁREA GEOGRÁFICA  Hombres_0  \\\n",
      "0  0.0  Nacional  1950.0                           Cabecera    78665.0   \n",
      "1  0.0  Nacional  1950.0  Centros Poblados y Rural Disperso   184737.0   \n",
      "\n",
      "   Hombres_1  Hombres_2  Hombres_3  Hombres_4  Hombres_5  ...  Total_94  \\\n",
      "0    73308.0    70757.0    68626.0    66636.0    64726.0  ...     121.0   \n",
      "1   170191.0   162832.0   156622.0   150955.0   145789.0  ...     234.0   \n",
      "\n",
      "   Total_95  Total_96  Total_97  Total_98  Total_99  Total_100  Total Hombres  \\\n",
      "0      57.0      24.0       9.0       3.0       1.0      873.0      2433730.0   \n",
      "1     109.0      45.0      18.0       6.0       3.0     1044.0      4931650.0   \n",
      "\n",
      "   Total Mujeres      Total  \n",
      "0      2757803.0  5191533.0  \n",
      "1      3447760.0  8379410.0  \n",
      "\n",
      "[2 rows x 310 columns]\n",
      "Nac-1950-2019.xlsx read\n",
      "Reading C:\\Users\\romer\\Documents\\Projects\\2_Demographic_data\\Projections\\National\\Nac-2020-2070.xlsx\n",
      "File downloaded\n",
      "   DP           DPNOM     AÑO                    ÁREA GEOGRÁFICA  Hombres_0  \\\n",
      "0  00  Total Nacional  2020.0                           Cabecera   270528.0   \n",
      "1  00  Total Nacional  2020.0  Centros Poblados y Rural Disperso   117791.0   \n",
      "\n",
      "   Hombres_1  Hombres_2  Hombres_3  Hombres_4  Hombres_5  ...  Total_94  \\\n",
      "0   273271.0   277416.0   279302.0   280802.0   281974.0  ...   14749.0   \n",
      "1   117443.0   117932.0   117746.0   117428.0   116950.0  ...    6167.0   \n",
      "\n",
      "   Total_95  Total_96  Total_97  Total_98  Total_99  Total_100 y más  \\\n",
      "0   12496.0   10252.0    8304.0    6834.0    5878.0          18782.0   \n",
      "1    5084.0    4206.0    3346.0    2304.0    2045.0           5084.0   \n",
      "\n",
      "   Total Hombres  Total Mujeres       Total  \n",
      "0     18312462.0     19922767.0  38235229.0  \n",
      "1      6315052.0      5857366.0  12172418.0  \n",
      "\n",
      "[2 rows x 310 columns]\n",
      "Nac-2020-2070.xlsx read\n",
      "ids and split identified\n",
      "col to row\n",
      "sex and age splited\n"
     ]
    }
   ],
   "source": [
    "get_csv(National, \"Nac-[0-9]{4}-[0-9]{4}.xlsx$\", path_national, 'Projections\\\\National.csv')"
   ]
  },
  {
   "cell_type": "code",
   "execution_count": 10,
   "id": "ac81af1a",
   "metadata": {},
   "outputs": [
    {
     "name": "stdout",
     "output_type": "stream",
     "text": [
      "Reading C:\\Users\\romer\\Documents\\Projects\\2_Demographic_data\\Projections\\Departmental\\dep-2005-2019.xlsx\n",
      "File downloaded\n",
      "   DP      DPNOM   AÑO                    ÁREA GEOGRÁFICA  Hombres_0  \\\n",
      "0   5  Antioquia  2005                           Cabecera      31263   \n",
      "1   5  Antioquia  2005  Centros Poblados y Rural Disperso      17346   \n",
      "\n",
      "   Hombres_1  Hombres_2  Hombres_3  Hombres_4  Hombres_5  ...  Total_94  \\\n",
      "0      32006      32827      33689      34587      35538  ...       725   \n",
      "1      17392      17518      17661      17781      17931  ...       221   \n",
      "\n",
      "   Total_95  Total_96  Total_97  Total_98  Total_99  Total_100  Total Hombres  \\\n",
      "0       580       451       363       303       244        700        1893416   \n",
      "1       164       136       105        76        70        155         737371   \n",
      "\n",
      "   Total Mujeres  Total general  \n",
      "0        2143679        4037095  \n",
      "1         686377        1423748  \n",
      "\n",
      "[2 rows x 310 columns]\n",
      "dep-2005-2019.xlsx read\n",
      "Reading C:\\Users\\romer\\Documents\\Projects\\2_Demographic_data\\Projections\\Departmental\\dep-1993-2004.xlsx\n",
      "File downloaded\n",
      "   DP      DPNOM   AÑO                    ÁREA GEOGRÁFICA  Hombres_0  \\\n",
      "0   5  Antioquia  1993                           Cabecera      32238   \n",
      "1   5  Antioquia  1993  Centros Poblados y Rural Disperso      22937   \n",
      "\n",
      "   Hombres_1  Hombres_2  Hombres_3  Hombres_4  Hombres_5  ...  Total_94  \\\n",
      "0      32222      32128      31851      31459      31065  ...       508   \n",
      "1      22453      21985      21413      20739      20101  ...       198   \n",
      "\n",
      "   Total_95  Total_96  Total_97  Total_98  Total_99  Total_100 y más  \\\n",
      "0       434       354       294       255       206              640   \n",
      "1       157       138       110        81        77              182   \n",
      "\n",
      "   Total Hombres  Total Mujeres    Total  \n",
      "0        1495855        1669650  3165505  \n",
      "1         747109         695260  1442369  \n",
      "\n",
      "[2 rows x 310 columns]\n",
      "dep-1993-2004.xlsx read\n",
      "Reading C:\\Users\\romer\\Documents\\Projects\\2_Demographic_data\\Projections\\Departmental\\dep-1985-1992.xlsx\n",
      "File downloaded\n",
      "   DP      DPNOM   AÑO                    ÁREA GEOGRÁFICA  Hombres_0  \\\n",
      "0   5  Antioquia  1985                           Cabecera      26387   \n",
      "1   5  Antioquia  1985  Centros Poblados y Rural Disperso      22738   \n",
      "\n",
      "   Hombres_1  Hombres_2  Hombres_3  Hombres_4  Hombres_5  ...  Total_94  \\\n",
      "0      26250      26238      26189      25979      25463  ...       995   \n",
      "1      22154      21745      21324      20742      19954  ...       504   \n",
      "\n",
      "   Total_95  Total_96  Total_97  Total_98  Total_99  Total_100 y más  \\\n",
      "0       872       707       567       439       271              581   \n",
      "1       407       351       270       177       125              209   \n",
      "\n",
      "   Total Hombres  Total Mujeres    Total  \n",
      "0        1232924        1324913  2557837  \n",
      "1         744430         692717  1437147  \n",
      "\n",
      "[2 rows x 310 columns]\n",
      "dep-1985-1992.xlsx read\n",
      "ids and split identified\n",
      "col to row\n",
      "sex and age splited\n"
     ]
    }
   ],
   "source": [
    "get_csv(Departmental, \"dep-[0-9]{4}-[0-9]{4}.xlsx$\", path_departmental, 'Projections\\\\Departmental.csv')"
   ]
  },
  {
   "cell_type": "code",
   "execution_count": 11,
   "id": "2b40c1a5",
   "metadata": {},
   "outputs": [
    {
     "name": "stdout",
     "output_type": "stream",
     "text": [
      "Reading C:\\Users\\romer\\Documents\\Projects\\2_Demographic_data\\Projections\\Municipal\\Mun-2005-2019.xlsx\n",
      "File downloaded\n",
      "   DP      DPNOM      DPMP  MPIO   AÑO                    ÁREA GEOGRÁFICA  \\\n",
      "0   5  Antioquia  Medellín  5001  2005                 Cabecera Municipal   \n",
      "1   5  Antioquia  Medellín  5001  2005  Centros Poblados y Rural Disperso   \n",
      "\n",
      "   Hombres_0  Hombres_1  Hombres_2  Hombres_3  ...  Total_79  Total_80  \\\n",
      "0      13812      14233      14680      15148  ...      4352      3944   \n",
      "1        489        493        499        503  ...        83        76   \n",
      "\n",
      "   Total_81  Total_82  Total_83  Total_84  Total_85 y más  Total Hombres  \\\n",
      "0      3547      3132      2776      2540           12870         927942   \n",
      "1        67        60        52        48             231          23924   \n",
      "\n",
      "   Total Mujeres  Total General  \n",
      "0        1069821        1997763  \n",
      "1          24654          48578  \n",
      "\n",
      "[2 rows x 267 columns]\n",
      "Mun-2005-2019.xlsx read\n",
      "Reading C:\\Users\\romer\\Documents\\Projects\\2_Demographic_data\\Projections\\Municipal\\Mun-1985-1994.xlsx\n",
      "File downloaded\n",
      "   DP      DPNOM  DPMP      MPIO   AÑO                    ÁREA GEOGRÁFICA  \\\n",
      "0   5  Antioquia  5001  Medellín  1985                 Cabecera Municipal   \n",
      "1   5  Antioquia  5001  Medellín  1985  Centros Poblados y Rural Disperso   \n",
      "\n",
      "   Hombres_0  Hombres_1  Hombres_2  Hombres_3  ...  Total_79  Total_80  \\\n",
      "0      13945      13868      13854      13822  ...      1870      1764   \n",
      "1        689        685        679        668  ...        68        63   \n",
      "\n",
      "   Total_81  Total_82  Total_83  Total_84  Total_85 y más  Total Hombres  \\\n",
      "0      1681      1592      1508      1417           11750         664721   \n",
      "1        59        55        51        47             391          27773   \n",
      "\n",
      "   Total Mujeres  Total General  \n",
      "0         729143        1393864  \n",
      "1          28540          56313  \n",
      "\n",
      "[2 rows x 267 columns]\n",
      "Mun-1985-1994.xlsx read\n",
      "Reading C:\\Users\\romer\\Documents\\Projects\\2_Demographic_data\\Projections\\Municipal\\Mun-1995-2004.xlsx\n",
      "File downloaded\n",
      "   DP      DPNOM  DPMP      MPIO   AÑO                    ÁREA GEOGRÁFICA  \\\n",
      "0   5  Antioquia  5001  Medellín  1995                 Cabecera Municipal   \n",
      "1   5  Antioquia  5001  Medellín  1995  Centros Poblados y Rural Disperso   \n",
      "\n",
      "   Hombres_0  Hombres_1  Hombres_2  Hombres_3  ...  Total_79  Total_80  \\\n",
      "0      16228      16363      16592      16586  ...      2789      2535   \n",
      "1        681        663        653        636  ...        69        63   \n",
      "\n",
      "   Total_81  Total_82  Total_83  Total_84  Total_85 y más  Total Hombres  \\\n",
      "0      2309      2068      1810      1556            8346         789154   \n",
      "1        58        53        48        43             280          25859   \n",
      "\n",
      "   Total Mujeres  Total General  \n",
      "0         915073        1704227  \n",
      "1          26675          52534  \n",
      "\n",
      "[2 rows x 267 columns]\n",
      "Mun-1995-2004.xlsx read\n",
      "ids and split identified\n",
      "col to row\n",
      "sex and age splited\n"
     ]
    }
   ],
   "source": [
    "get_csv(Municipal, \"Mun-[0-9]{4}-[0-9]{4}.xlsx$\", path_municipal,'Projections\\\\Municipal.csv')"
   ]
  },
  {
   "cell_type": "markdown",
   "id": "e5dc39eb",
   "metadata": {},
   "source": [
    "**4. Remove directories**"
   ]
  },
  {
   "cell_type": "code",
   "execution_count": 12,
   "id": "04c7c778",
   "metadata": {},
   "outputs": [],
   "source": [
    "shutil.rmtree(path_national)\n",
    "shutil.rmtree(path_departmental)\n",
    "shutil.rmtree(path_municipal)"
   ]
  }
 ],
 "metadata": {
  "kernelspec": {
   "display_name": "Python 3 (ipykernel)",
   "language": "python",
   "name": "python3"
  },
  "language_info": {
   "codemirror_mode": {
    "name": "ipython",
    "version": 3
   },
   "file_extension": ".py",
   "mimetype": "text/x-python",
   "name": "python",
   "nbconvert_exporter": "python",
   "pygments_lexer": "ipython3",
   "version": "3.11.2"
  }
 },
 "nbformat": 4,
 "nbformat_minor": 5
}
