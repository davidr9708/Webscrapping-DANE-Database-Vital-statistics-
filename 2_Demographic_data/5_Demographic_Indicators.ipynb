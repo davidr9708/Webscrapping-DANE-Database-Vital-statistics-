{
 "cells": [
  {
   "cell_type": "markdown",
   "id": "36de5d87",
   "metadata": {},
   "source": [
    "**1. Libraries**"
   ]
  },
  {
   "cell_type": "code",
   "execution_count": 1,
   "id": "c57a2831",
   "metadata": {},
   "outputs": [],
   "source": [
    "from requests_html import HTMLSession\n",
    "import pandas as pd\n",
    "import re, os, shutil, sqlite3"
   ]
  },
  {
   "cell_type": "markdown",
   "id": "3cdde662",
   "metadata": {},
   "source": [
    "**2. Directories**"
   ]
  },
  {
   "cell_type": "code",
   "execution_count": 2,
   "id": "6cfe719b",
   "metadata": {},
   "outputs": [],
   "source": [
    "## Creating directories\n",
    "path_raw = os.path.join(os.getcwd(), 'Indicator')\n",
    "if os.path.exists(path_raw) == False: \n",
    "    os.mkdir(path_raw)"
   ]
  },
  {
   "cell_type": "markdown",
   "id": "721f2727",
   "metadata": {},
   "source": [
    "**3. Connecting**"
   ]
  },
  {
   "cell_type": "code",
   "execution_count": 3,
   "id": "bd07e88b",
   "metadata": {},
   "outputs": [],
   "source": [
    "session = HTMLSession()"
   ]
  },
  {
   "cell_type": "code",
   "execution_count": 4,
   "id": "86ca0da4",
   "metadata": {},
   "outputs": [],
   "source": [
    "url = 'https://www.dane.gov.co/index.php/estadisticas-por-tema/demografia-y-poblacion/estimaciones-del-cambio-demografico'"
   ]
  },
  {
   "cell_type": "code",
   "execution_count": 5,
   "id": "73d90fb0",
   "metadata": {},
   "outputs": [],
   "source": [
    "response = session.get(url)"
   ]
  },
  {
   "cell_type": "markdown",
   "id": "9af4b85d",
   "metadata": {},
   "source": [
    "**3.1 Scrapping**"
   ]
  },
  {
   "cell_type": "code",
   "execution_count": 6,
   "id": "393ba73d",
   "metadata": {},
   "outputs": [],
   "source": [
    "links = response.html.absolute_links"
   ]
  },
  {
   "cell_type": "code",
   "execution_count": 7,
   "id": "49d30071",
   "metadata": {},
   "outputs": [
    {
     "data": {
      "text/plain": [
       "{'http://dane.agenti.com.co/dane/',\n",
       " 'http://formularios.dane.gov.co/encuestaweb/index.php/234352?newtest=Y',\n",
       " 'http://geoportal.dane.gov.co/servicios/atlas-estadistico/',\n",
       " 'http://orfeoott.dane.gov.co/orfeo/login.php',\n",
       " 'http://www.cancilleria.gov.co',\n",
       " 'http://www.centroderelevo.gov.co/632/w3-channel.html',\n",
       " 'http://www.dane.gov.co/',\n",
       " 'http://www.dane.gov.co/files/dane-para-ninos/index.html',\n",
       " 'http://www.minagricultura.gov.co',\n",
       " 'http://www.minambiente.gov.co',\n",
       " 'http://www.mincit.gov.co',\n",
       " 'http://www.mincultura.gov.co',\n",
       " 'http://www.mindefensa.gov.co',\n",
       " 'http://www.mineducacion.gov.co',\n",
       " 'http://www.minhacienda.gov.co',\n",
       " 'http://www.mininterior.gov.co',\n",
       " 'http://www.minjusticia.gov.co',\n",
       " 'http://www.minsalud.gov.co',\n",
       " 'http://www.mintic.gov.co',\n",
       " 'http://www.mintrabajo.gov.co',\n",
       " 'http://www.mintransporte.gov.co',\n",
       " 'http://www.minvivienda.gov.co',\n",
       " 'http://www.presidencia.gov.co/',\n",
       " 'http://www.vicepresidencia.gov.co',\n",
       " 'https://apps.dane.gov.co/crt/certificacion',\n",
       " 'https://biblioteca.dane.gov.co/biblioteca/allbooks',\n",
       " 'https://bibliotecadoctecnica.dane.gov.co/',\n",
       " 'https://geoportal.dane.gov.co/',\n",
       " 'https://geoportal.dane.gov.co/geovisores/territorio/consulta-divipola-division-politico-administrativa-de-colombia/',\n",
       " 'https://mail.dane.gov.co/',\n",
       " 'https://microdatos.dane.gov.co/index.php/catalog/central/about',\n",
       " 'https://minciencias.gov.co/',\n",
       " 'https://soundcloud.com/danecolombia',\n",
       " 'https://twitter.com/DANE_Colombia',\n",
       " 'https://www.centroderelevo.gov.co/632/w3-channel.html',\n",
       " 'https://www.dane.gov.co/files/Transparencia/Registro-de-activos-de-informacion.xlsx',\n",
       " 'https://www.dane.gov.co/files/censo2018/cambio-demografico/DCD-DefFuntablasvida.pdf',\n",
       " 'https://www.dane.gov.co/files/censo2018/cambio-demografico/DCD-FacSepSexNal-1985-2019.xlsx',\n",
       " 'https://www.dane.gov.co/files/censo2018/cambio-demografico/DCD-FacSepSexNal-2020-ActPostCOVID.xlsx',\n",
       " 'https://www.dane.gov.co/files/censo2018/cambio-demografico/DCD-Fec-EstNal-Dep-1985-2019.xlsx',\n",
       " 'https://www.dane.gov.co/files/censo2018/cambio-demografico/DCD-Fec-EstNal-Dep-2020-ActPostCOVID.xlsx',\n",
       " 'https://www.dane.gov.co/files/censo2018/cambio-demografico/DCD-Mig-EstSexNal-Dep-1985-2019.xlsx',\n",
       " 'https://www.dane.gov.co/files/censo2018/cambio-demografico/DCD-Mig-EstSexNal-Dep-2020-ActPostCOVID.xlsx',\n",
       " 'https://www.dane.gov.co/files/censo2018/cambio-demografico/DCD-Mor-EstSexNal-Dep-1985-2019.xlsx',\n",
       " 'https://www.dane.gov.co/files/censo2018/cambio-demografico/DCD-Mor-EstSexNal-Dep-2020-ActPostCOVID.xlsx',\n",
       " 'https://www.dane.gov.co/files/censo2018/cambio-demografico/DCD-PrinInd-camDemNac-1985-2019.xlsx',\n",
       " 'https://www.dane.gov.co/files/censo2018/cambio-demografico/DCD-PrinInd-camDemNac-2020-ActPostCOVID.xlsx',\n",
       " 'https://www.dane.gov.co/files/censo2018/cambio-demografico/DCD-PrinInd-crecPobNac-1985-2019.xlsx',\n",
       " 'https://www.dane.gov.co/files/censo2018/cambio-demografico/DCD-PrinInd-crecPobNac-2020-ActPostCOVID.xlsx',\n",
       " 'https://www.dane.gov.co/files/censo2018/cambio-demografico/DCD-Tabvidacomplabresexo-1985-2019.xlsx',\n",
       " 'https://www.dane.gov.co/files/censo2018/cambio-demografico/DCD-Tabvidacomplabresexo-2020-ActPostCOVID.xlsx',\n",
       " 'https://www.dane.gov.co/files/censo2018/cambio-demografico/anexo-cambio-demografico-SumaryTable1985-2017.xlsx',\n",
       " 'https://www.dane.gov.co/files/censo2018/cambio-demografico/anexo-cambio-demografico-SumaryTable2018-2070.xls',\n",
       " 'https://www.dane.gov.co/files/images/ventana-unica/sedes-dane.pdf',\n",
       " 'https://www.dane.gov.co/files/induccion-institucional/index.html',\n",
       " 'https://www.dane.gov.co/index.php',\n",
       " 'https://www.dane.gov.co/index.php/acerca-del-dane/informacion-institucional/agremiaciones',\n",
       " 'https://www.dane.gov.co/index.php/acerca-del-dane/informacion-institucional/directorio-de-funcionarios',\n",
       " 'https://www.dane.gov.co/index.php/acerca-del-dane/informacion-institucional/entidades-adscritas',\n",
       " 'https://www.dane.gov.co/index.php/acerca-del-dane/informacion-institucional/entidades-nacionales',\n",
       " 'https://www.dane.gov.co/index.php/acerca-del-dane/informacion-institucional/generalidades',\n",
       " 'https://www.dane.gov.co/index.php/acerca-del-dane/informacion-institucional/normatividad',\n",
       " 'https://www.dane.gov.co/index.php/acerca-del-dane/informacion-institucional/normatividad/guia-normativa-de-operaciones-estadisticas-dane',\n",
       " 'https://www.dane.gov.co/index.php/acerca-del-dane/informacion-institucional/organigrama',\n",
       " 'https://www.dane.gov.co/index.php/acerca-del-dane/informacion-institucional/organismos-estadisticos',\n",
       " 'https://www.dane.gov.co/index.php/acerca-del-dane/informacion-institucional/organismos-internacionales',\n",
       " 'https://www.dane.gov.co/index.php/acerca-del-dane/informacion-institucional/talento-humano',\n",
       " 'https://www.dane.gov.co/index.php/actualidad-dane/5600-plan-capacitaciones-del-sistema-estadistico-nacional',\n",
       " 'https://www.dane.gov.co/index.php/component/mailto/?tmpl=component&template=t3_bs3_blank&link=9a29342121b464d3e01df1c5a524ffe1154c252c',\n",
       " 'https://www.dane.gov.co/index.php/convocatorias-y-contratacion/informacion-laboral/certificaciones-contratistas',\n",
       " 'https://www.dane.gov.co/index.php/convocatorias-y-contratacion/informacion-laboral/concurso-de-meritos-2022',\n",
       " 'https://www.dane.gov.co/index.php/convocatorias-y-contratacion/informacion-laboral/convocatorias-roles-operativos-para-operaciones-estadisticas',\n",
       " 'https://www.dane.gov.co/index.php/convocatorias-y-contratacion/informacion-laboral/empleos-de-libre-nombramiento-y-remocion',\n",
       " 'https://www.dane.gov.co/index.php/convocatorias-y-contratacion/informacion-laboral/historial-de-convocatorias',\n",
       " 'https://www.dane.gov.co/index.php/convocatorias-y-contratacion/informacion-laboral/proceso-de-seleccion-de-bienes-y-servicios',\n",
       " 'https://www.dane.gov.co/index.php/convocatorias-y-contratacion/informacion-laboral/requisitos-para-la-contratacion',\n",
       " 'https://www.dane.gov.co/index.php/en/statistics-by-topic-1/population-and-demography/population-series-1985-2020',\n",
       " 'https://www.dane.gov.co/index.php/estadisticas-por-tema',\n",
       " 'https://www.dane.gov.co/index.php/estadisticas-por-tema/agropecuario',\n",
       " 'https://www.dane.gov.co/index.php/estadisticas-por-tema/ambientales',\n",
       " 'https://www.dane.gov.co/index.php/estadisticas-por-tema/comercio-internacional',\n",
       " 'https://www.dane.gov.co/index.php/estadisticas-por-tema/comercio-interno',\n",
       " 'https://www.dane.gov.co/index.php/estadisticas-por-tema/construccion',\n",
       " 'https://www.dane.gov.co/index.php/estadisticas-por-tema/cuentas-nacionales',\n",
       " 'https://www.dane.gov.co/index.php/estadisticas-por-tema/cultura',\n",
       " 'https://www.dane.gov.co/index.php/estadisticas-por-tema/demografia-y-poblacion',\n",
       " 'https://www.dane.gov.co/index.php/estadisticas-por-tema/demografia-y-poblacion/censo-nacional-de-poblacion-y-vivenda-2018',\n",
       " 'https://www.dane.gov.co/index.php/estadisticas-por-tema/demografia-y-poblacion/censo-nacional-de-poblacion-y-vivenda-2018/como-vivimos',\n",
       " 'https://www.dane.gov.co/index.php/estadisticas-por-tema/demografia-y-poblacion/censo-nacional-de-poblacion-y-vivenda-2018/cuantos-somos',\n",
       " 'https://www.dane.gov.co/index.php/estadisticas-por-tema/demografia-y-poblacion/censo-nacional-de-poblacion-y-vivenda-2018/donde-estamos',\n",
       " 'https://www.dane.gov.co/index.php/estadisticas-por-tema/demografia-y-poblacion/censo-nacional-de-poblacion-y-vivenda-2018/herramientas',\n",
       " 'https://www.dane.gov.co/index.php/estadisticas-por-tema/demografia-y-poblacion/censo-nacional-de-poblacion-y-vivenda-2018/informacion-tecnica',\n",
       " 'https://www.dane.gov.co/index.php/estadisticas-por-tema/demografia-y-poblacion/estimaciones-del-cambio-demografico',\n",
       " 'https://www.dane.gov.co/index.php/estadisticas-por-tema/demografia-y-poblacion/estimaciones-del-cambio-demografico?tmpl=component&print=1&page=',\n",
       " 'https://www.dane.gov.co/index.php/estadisticas-por-tema/educacion',\n",
       " 'https://www.dane.gov.co/index.php/estadisticas-por-tema/encuestas-economicas-estructurales-anuales',\n",
       " 'https://www.dane.gov.co/index.php/estadisticas-por-tema/enfoque-diferencial-e-interseccional',\n",
       " 'https://www.dane.gov.co/index.php/estadisticas-por-tema/estadisticas-experimentales',\n",
       " 'https://www.dane.gov.co/index.php/estadisticas-por-tema/gobierno',\n",
       " 'https://www.dane.gov.co/index.php/estadisticas-por-tema/industria',\n",
       " 'https://www.dane.gov.co/index.php/estadisticas-por-tema/informacion-regional',\n",
       " 'https://www.dane.gov.co/index.php/estadisticas-por-tema/mercado-laboral',\n",
       " 'https://www.dane.gov.co/index.php/estadisticas-por-tema/pobreza-y-condiciones-de-vida',\n",
       " 'https://www.dane.gov.co/index.php/estadisticas-por-tema/precios-y-costos',\n",
       " 'https://www.dane.gov.co/index.php/estadisticas-por-tema/salud',\n",
       " 'https://www.dane.gov.co/index.php/estadisticas-por-tema/seguridad-y-defensa',\n",
       " 'https://www.dane.gov.co/index.php/estadisticas-por-tema/servicios',\n",
       " 'https://www.dane.gov.co/index.php/estadisticas-por-tema/tecnologia-e-innovacion',\n",
       " 'https://www.dane.gov.co/index.php/estadisticas-por-tema/transporte',\n",
       " 'https://www.dane.gov.co/index.php/gestion-de-contenidos?phpMyAdmin=3om27vamm65hhkhrtgc8rrn2g4',\n",
       " 'https://www.dane.gov.co/index.php/inicio-es/mapa-dane',\n",
       " 'https://www.dane.gov.co/index.php/norma-tecnica-de-la-calidad',\n",
       " 'https://www.dane.gov.co/index.php/notificacion-por-aviso',\n",
       " 'https://www.dane.gov.co/index.php/plan-estadistico-nacional-pen',\n",
       " 'https://www.dane.gov.co/index.php/sala-de-prensa',\n",
       " 'https://www.dane.gov.co/index.php/sedes',\n",
       " 'https://www.dane.gov.co/index.php/servicios-al-ciudadano',\n",
       " 'https://www.dane.gov.co/index.php/servicios-al-ciudadano/servicios-informacion/estratificacion-socioeconomica',\n",
       " 'https://www.dane.gov.co/index.php/servicios-al-ciudadano/servicios-informacion/objetivos-de-desarrollo-sostenible-ods',\n",
       " 'https://www.dane.gov.co/index.php/servicios-al-ciudadano/servicios-informacion/registro-estadistico-de-empresas',\n",
       " 'https://www.dane.gov.co/index.php/servicios-al-ciudadano/servicios-informacion/serie-historia-del-dato',\n",
       " 'https://www.dane.gov.co/index.php/servicios-al-ciudadano/servicios-informacion/serie-notas-estadisticas',\n",
       " 'https://www.dane.gov.co/index.php/servicios-al-ciudadano/servicios-informacion/serie-notas-estadisticas-casen',\n",
       " 'https://www.dane.gov.co/index.php/servicios-al-ciudadano/servicios-informacion/sipsa',\n",
       " 'https://www.dane.gov.co/index.php/servicios-al-ciudadano/tramites-y-servicios/2466-notificaciones-judiciales',\n",
       " 'https://www.dane.gov.co/index.php/servicios-al-ciudadano/tramites/ayudas-de-navegabilidad',\n",
       " 'https://www.dane.gov.co/index.php/servicios-al-ciudadano/tramites/ayudas-de-navegabilidad/mapa-del-sitio',\n",
       " 'https://www.dane.gov.co/index.php/servicios-al-ciudadano/tramites/cultura-estadistica',\n",
       " 'https://www.dane.gov.co/index.php/servicios-al-ciudadano/tramites/medicion-de-la-satisfaccion',\n",
       " 'https://www.dane.gov.co/index.php/servicios-al-ciudadano/tramites/notificaciones-judiciales',\n",
       " 'https://www.dane.gov.co/index.php/servicios-al-ciudadano/tramites/participacion-ciudadana',\n",
       " 'https://www.dane.gov.co/index.php/servicios-al-ciudadano/tramites/rendicion-de-cuentas',\n",
       " 'https://www.dane.gov.co/index.php/servicios-al-ciudadano/tramites/tramites',\n",
       " 'https://www.dane.gov.co/index.php/servicios-al-ciudadano/tramites/tramites/informacion-consulta-anonimos-o-sin-direccion',\n",
       " 'https://www.dane.gov.co/index.php/servicios-al-ciudadano/tramites/transparencia-y-acceso-a-la-informacion-publica',\n",
       " 'https://www.dane.gov.co/index.php/servicios-al-ciudadano/tramites/transparencia-y-acceso-a-la-informacion-publica/control/notificaciones-procesos-disciplinarios',\n",
       " 'https://www.dane.gov.co/index.php/servicios-al-ciudadano/tramites/transparencia-y-acceso-a-la-informacion-publica/control/tutelas',\n",
       " 'https://www.dane.gov.co/index.php/servicios-al-ciudadano/tramites/transparencia-y-acceso-a-la-informacion-publica/terminos-de-uso',\n",
       " 'https://www.dane.gov.co/index.php/sistema-estadistico-nacional-sen',\n",
       " 'https://www.dane.gov.co/index.php/sistema-estadistico-nacional-sen/calidad-estadistica/aspectos-generales',\n",
       " 'https://www.dane.gov.co/index.php/sistema-estadistico-nacional-sen/calidad-estadistica/evaluacion-del-proceso',\n",
       " 'https://www.dane.gov.co/index.php/sistema-estadistico-nacional-sen/calidad-estadistica/operaciones-estadisticas-certificadas',\n",
       " 'https://www.dane.gov.co/index.php/sistema-estadistico-nacional-sen/normas-y-estandares/aspectos-generales',\n",
       " 'https://www.dane.gov.co/index.php/sistema-estadistico-nacional-sen/normas-y-estandares/estandarizacion-de-metadatos',\n",
       " 'https://www.dane.gov.co/index.php/sistema-estadistico-nacional-sen/normas-y-estandares/estandarizacion-y-armonizacion-de-conceptos',\n",
       " 'https://www.dane.gov.co/index.php/sistema-estadistico-nacional-sen/normas-y-estandares/lineamientos',\n",
       " 'https://www.dane.gov.co/index.php/sistema-estadistico-nacional-sen/normas-y-estandares/nomenclaturas-y-clasificaciones',\n",
       " 'https://www.dane.gov.co/index.php/sistema-estadistico-nacional-sen/normas-y-estandares/sistema-de-consulta',\n",
       " 'https://www.dane.gov.co/index.php/sistema-estadistico-nacional-sen/planificacion-estadistica/aspectos-generales',\n",
       " 'https://www.dane.gov.co/index.php/sistema-estadistico-nacional-sen/planificacion-estadistica/base-indicadores',\n",
       " 'https://www.dane.gov.co/index.php/sistema-estadistico-nacional-sen/planificacion-estadistica/informacion-estadistica-para-la-planeacion-territorial',\n",
       " 'https://www.dane.gov.co/index.php/sistema-estadistico-nacional-sen/planificacion-estadistica/metodologias',\n",
       " 'https://www.dane.gov.co/index.php/sistema-estadistico-nacional-sen/planificacion-estadistica/planes-estadisticos',\n",
       " 'https://www.dane.gov.co/index.php/sistema-estadistico-nacional-sen/registros-administrativos/cooperacion-tecnica-regional-bid',\n",
       " 'https://www.dane.gov.co/index.php/sistema-estadistico-nacional-sen/registros-administrativos/documentacion-registros-administrativos',\n",
       " 'https://www.dane.gov.co/index.php/sistema-estadistico-nacional-sen/registros-administrativos/programa-de-fortalecimiento',\n",
       " 'https://www.dane.gov.co/index.php/transparencia',\n",
       " 'https://www.dane.gov.co/index.php/ventanilla-unica',\n",
       " 'https://www.dane.gov.co/index.php/ventanilla-unica/pqr-s',\n",
       " 'https://www.dane.gov.co/index.php/ventanilla-unica/tramites',\n",
       " 'https://www.dane.gov.co/index.php/ventanilla-unica/tratamiento-de-datos-personales?ml=1',\n",
       " 'https://www.facebook.com/DANEColombia',\n",
       " 'https://www.gov.co/',\n",
       " 'https://www.instagram.com/danecolombia/',\n",
       " 'https://www.minenergia.gov.co/',\n",
       " 'https://www.minhacienda.gov.co/webcenter/portal/SIIFNacion/pages_consultadepagos',\n",
       " 'https://www.office.com/',\n",
       " 'https://www.sen.gov.co/conozca-el-sen/instancias',\n",
       " 'https://www.sen.gov.co/conozca-el-sen/intercambio-informacion',\n",
       " 'https://www.sen.gov.co/normatividad/lineamientos',\n",
       " 'https://www.sen.gov.co/oferta-estadistica/',\n",
       " 'https://www.sen.gov.co/servicios/aula-digital',\n",
       " 'https://www.sen.gov.co/servicios/programa-fortalecimiento-territorial',\n",
       " 'https://www.urnadecristal.gov.co/',\n",
       " 'https://www.youtube.com/user/DaneColombia'}"
      ]
     },
     "execution_count": 7,
     "metadata": {},
     "output_type": "execute_result"
    }
   ],
   "source": [
    "links"
   ]
  },
  {
   "cell_type": "code",
   "execution_count": 8,
   "id": "e623768c",
   "metadata": {
    "scrolled": true
   },
   "outputs": [
    {
     "name": "stdout",
     "output_type": "stream",
     "text": [
      "https://www.dane.gov.co/files/censo2018/cambio-demografico/DCD-PrinInd-crecPobNac-1985-2019.xlsx\n",
      "https://www.dane.gov.co/files/censo2018/cambio-demografico/DCD-PrinInd-crecPobNac-2020-ActPostCOVID.xlsx\n"
     ]
    }
   ],
   "source": [
    "Links = list()\n",
    "for link in links:\n",
    "    if re.search('DCD-PrinInd-crecPobNac-[0-9]{4}-.*.xlsx$', link):\n",
    "        Links.append(link)\n",
    "        print(link)\n",
    "        continue\n"
   ]
  },
  {
   "cell_type": "code",
   "execution_count": 9,
   "id": "626183f1",
   "metadata": {},
   "outputs": [
    {
     "data": {
      "text/plain": [
       "['https://www.dane.gov.co/files/censo2018/cambio-demografico/DCD-PrinInd-crecPobNac-1985-2019.xlsx',\n",
       " 'https://www.dane.gov.co/files/censo2018/cambio-demografico/DCD-PrinInd-crecPobNac-2020-ActPostCOVID.xlsx']"
      ]
     },
     "execution_count": 9,
     "metadata": {},
     "output_type": "execute_result"
    }
   ],
   "source": [
    "Links"
   ]
  },
  {
   "cell_type": "markdown",
   "id": "c89b801b",
   "metadata": {},
   "source": [
    "**3.2 Download and export**"
   ]
  },
  {
   "cell_type": "code",
   "execution_count": 10,
   "id": "9f6d11fc",
   "metadata": {},
   "outputs": [],
   "source": [
    "def get_csv(links,csv_name):\n",
    "    df_all = pd.DataFrame()        \n",
    "    for web in links:\n",
    "        print('Reading', web)\n",
    "        sheet1 = pd.read_excel(web, skiprows=9, converters={'DP':str})\n",
    "        sheet2 = pd.read_excel(web.replace('crecPobNac','camDemNac'), skiprows=9, converters={'DP':str})\n",
    "        print('......Cleaning')\n",
    "        sheet1.columns = sheet1.columns.str.upper()\n",
    "        sheet2.columns = sheet2.columns.str.upper()\n",
    "        complete_table = sheet1.merge(sheet2, how='inner', on=['DP', 'DPNOM', 'AÑO'])\n",
    "        complete_table.columns = complete_table.columns.str.replace(\" \", \"_\")\n",
    "        complete_table.columns = complete_table.columns.str.replace(\"\\(|\\)|\\.|\\/\", \"\")\n",
    "        complete_table.columns = complete_table.columns.str.replace(\"Á\", \"A\")\n",
    "        complete_table.columns = complete_table.columns.str.replace(\"Ó\", \"O\")\n",
    "        complete_table = complete_table.fillna(value = 'NULL')\n",
    "        complete_table = complete_table.drop(columns=['DPNOM', 'AREA_GEOGRAFICA'], axis=1)\n",
    "        df_all = pd.concat([df_all, complete_table], ignore_index=True)\n",
    "        print('......Completed')\n",
    "    return df_all"
   ]
  },
  {
   "cell_type": "code",
   "execution_count": 11,
   "id": "a7a52609",
   "metadata": {},
   "outputs": [
    {
     "name": "stdout",
     "output_type": "stream",
     "text": [
      "Reading https://www.dane.gov.co/files/censo2018/cambio-demografico/DCD-PrinInd-crecPobNac-1985-2019.xlsx\n",
      "......Cleaning\n",
      "......Completed\n",
      "Reading https://www.dane.gov.co/files/censo2018/cambio-demografico/DCD-PrinInd-crecPobNac-2020-ActPostCOVID.xlsx\n"
     ]
    },
    {
     "name": "stderr",
     "output_type": "stream",
     "text": [
      "C:\\Users\\romer\\AppData\\Local\\Temp\\ipykernel_11728\\3036421880.py:12: FutureWarning: The default value of regex will change from True to False in a future version.\n",
      "  complete_table.columns = complete_table.columns.str.replace(\"\\(|\\)|\\.|\\/\", \"\")\n"
     ]
    },
    {
     "name": "stdout",
     "output_type": "stream",
     "text": [
      "......Cleaning\n",
      "......Completed\n"
     ]
    },
    {
     "name": "stderr",
     "output_type": "stream",
     "text": [
      "C:\\Users\\romer\\AppData\\Local\\Temp\\ipykernel_11728\\3036421880.py:12: FutureWarning: The default value of regex will change from True to False in a future version.\n",
      "  complete_table.columns = complete_table.columns.str.replace(\"\\(|\\)|\\.|\\/\", \"\")\n"
     ]
    }
   ],
   "source": [
    "df_all = get_csv(Links, 'Indicator\\\\Indicators.csv')"
   ]
  },
  {
   "cell_type": "code",
   "execution_count": 12,
   "id": "0f73955b",
   "metadata": {},
   "outputs": [],
   "source": [
    "list_str = str()\n",
    "for col in df_all.columns:\n",
    "    if col == 'DP':\n",
    "        list_str = list_str + 'departamento_id' + \"   CHAR(2) NULL, \"\n",
    "    else:\n",
    "        list_str = list_str + col + \"  INTEGER NULL,\"\n"
   ]
  },
  {
   "cell_type": "code",
   "execution_count": 13,
   "id": "6dce999e",
   "metadata": {},
   "outputs": [
    {
     "data": {
      "text/plain": [
       "<sqlite3.Cursor at 0x2550bf3e4c0>"
      ]
     },
     "execution_count": 13,
     "metadata": {},
     "output_type": "execute_result"
    }
   ],
   "source": [
    "con = sqlite3.connect('Colombia_Demographic_data.sqlite', timeout=30)\n",
    "cur = con.cursor()\n",
    "cur.executescript('DROP TABLE IF EXISTS Indicadores; CREATE TABLE Indicadores(' + list_str + 'FOREIGN KEY(departamento_id)  REFERENCES Departamento(id));')"
   ]
  },
  {
   "cell_type": "code",
   "execution_count": 14,
   "id": "858a98cf",
   "metadata": {},
   "outputs": [],
   "source": [
    "con.commit()"
   ]
  },
  {
   "cell_type": "code",
   "execution_count": 15,
   "id": "8e7dc362",
   "metadata": {},
   "outputs": [],
   "source": [
    "list_str = str()\n",
    "for col in df_all.columns:\n",
    "    if col == 'DP':\n",
    "        list_str = list_str + 'departamento_id' + ', '\n",
    "    else:\n",
    "        list_str = list_str + col + ', '\n",
    "list_str = list_str[:-2] + ') VALUES'"
   ]
  },
  {
   "cell_type": "code",
   "execution_count": 16,
   "id": "93a0f095",
   "metadata": {
    "scrolled": true
   },
   "outputs": [],
   "source": [
    "insert = 'INSERT INTO Indicadores(' + list_str\n",
    "for row in range(0,len(df_all)):\n",
    "    i = 0\n",
    "    insert += '('\n",
    "    for feature in df_all.iloc[row]:\n",
    "        if i == 0:\n",
    "            insert = insert + \"'\" + str(feature) + \"'\" + ','\n",
    "        else:\n",
    "            insert = insert + str(feature) + ','\n",
    "        i = i +1\n",
    "    insert = insert[:-1] + '),'\n",
    "    \n",
    "insert = insert[:-1] + ';'   "
   ]
  },
  {
   "cell_type": "code",
   "execution_count": 17,
   "id": "23e6d617",
   "metadata": {},
   "outputs": [
    {
     "data": {
      "text/plain": [
       "<sqlite3.Cursor at 0x2550bf3e4c0>"
      ]
     },
     "execution_count": 17,
     "metadata": {},
     "output_type": "execute_result"
    }
   ],
   "source": [
    "cur.executescript(insert)"
   ]
  },
  {
   "cell_type": "code",
   "execution_count": 18,
   "id": "c98e0cb7",
   "metadata": {},
   "outputs": [],
   "source": [
    "con.commit()"
   ]
  },
  {
   "cell_type": "code",
   "execution_count": 19,
   "id": "080b8058",
   "metadata": {},
   "outputs": [],
   "source": [
    "con.close()"
   ]
  }
 ],
 "metadata": {
  "kernelspec": {
   "display_name": "Python 3 (ipykernel)",
   "language": "python",
   "name": "python3"
  },
  "language_info": {
   "codemirror_mode": {
    "name": "ipython",
    "version": 3
   },
   "file_extension": ".py",
   "mimetype": "text/x-python",
   "name": "python",
   "nbconvert_exporter": "python",
   "pygments_lexer": "ipython3",
   "version": "3.11.2"
  }
 },
 "nbformat": 4,
 "nbformat_minor": 5
}
