{
 "cells": [
  {
   "cell_type": "markdown",
   "id": "36de5d87",
   "metadata": {},
   "source": [
    "**1. Libraries**"
   ]
  },
  {
   "cell_type": "code",
   "execution_count": 1,
   "id": "c57a2831",
   "metadata": {},
   "outputs": [],
   "source": [
    "from requests_html import HTMLSession\n",
    "import pandas as pd\n",
    "import re, os, shutil, sqlite3"
   ]
  },
  {
   "cell_type": "markdown",
   "id": "3cdde662",
   "metadata": {},
   "source": [
    "**2. Directories**"
   ]
  },
  {
   "cell_type": "code",
   "execution_count": 2,
   "id": "6cfe719b",
   "metadata": {},
   "outputs": [],
   "source": [
    "## Creating directories\n",
    "path_raw = os.path.join(os.getcwd(), 'Indicator')\n",
    "if os.path.exists(path_raw) == False: \n",
    "    os.mkdir(path_raw)"
   ]
  },
  {
   "cell_type": "markdown",
   "id": "721f2727",
   "metadata": {},
   "source": [
    "**3. Connecting**"
   ]
  },
  {
   "cell_type": "code",
   "execution_count": 3,
   "id": "bd07e88b",
   "metadata": {},
   "outputs": [],
   "source": [
    "session = HTMLSession()"
   ]
  },
  {
   "cell_type": "code",
   "execution_count": 4,
   "id": "86ca0da4",
   "metadata": {},
   "outputs": [],
   "source": [
    "url = 'https://www.dane.gov.co/index.php/estadisticas-por-tema/demografia-y-poblacion/estimaciones-del-cambio-demografico'"
   ]
  },
  {
   "cell_type": "code",
   "execution_count": 5,
   "id": "73d90fb0",
   "metadata": {},
   "outputs": [],
   "source": [
    "response = session.get(url)"
   ]
  },
  {
   "cell_type": "markdown",
   "id": "9af4b85d",
   "metadata": {},
   "source": [
    "**3.1 Scrapping**"
   ]
  },
  {
   "cell_type": "code",
   "execution_count": 6,
   "id": "393ba73d",
   "metadata": {},
   "outputs": [],
   "source": [
    "links = response.html.absolute_links"
   ]
  },
  {
   "cell_type": "code",
   "execution_count": 7,
   "id": "e623768c",
   "metadata": {},
   "outputs": [
    {
     "name": "stdout",
     "output_type": "stream",
     "text": [
      "https://www.dane.gov.co/files/censo2018/cambio-demografico/anexo-cambio-demografico-SumaryTable1985-2017.xlsx\n",
      "https://www.dane.gov.co/files/censo2018/cambio-demografico/anexo-cambio-demografico-SumaryTable1950-1984.xlsx\n"
     ]
    }
   ],
   "source": [
    "Links = list()\n",
    "for link in links:\n",
    "    if re.search('anexo-cambio-demografico-SumaryTable[0-9]{4}-[0-9]{4}.xlsx$', link):\n",
    "        Links.append(link)\n",
    "        print(link)\n",
    "        continue"
   ]
  },
  {
   "cell_type": "markdown",
   "id": "c89b801b",
   "metadata": {},
   "source": [
    "**3.2 Download and export**"
   ]
  },
  {
   "cell_type": "code",
   "execution_count": 8,
   "id": "9f6d11fc",
   "metadata": {},
   "outputs": [],
   "source": [
    "def get_csv(links,csv_name):\n",
    "    df_all = pd.DataFrame()\n",
    "    paths = list()\n",
    "            \n",
    "    for web in links:\n",
    "        print('Reading', web)\n",
    "        sheet1 = pd.read_excel(web, skiprows=11, sheet_name = 0, converters={'DP':str})\n",
    "        sheet2 = pd.read_excel(web, skiprows=11, sheet_name = 1, converters={'DP':str})\n",
    "        print('......Cleaning')\n",
    "        complete_table = sheet1.merge(sheet2, how='inner', on=['DP', 'DPNOM', 'AÑO'])\n",
    "        complete_table = complete_table.rename({'AÑO':'year', '(%)':'Tasa_crecimiento', 'sexos': 'Esperanza_total', \n",
    "                              'Hombres':'Esperanza_hombres', 'Mujeres':'Esperanza_mujeres',\n",
    "                               'sexos.1':'Tasa_mortalidad_infantil_total',\n",
    "                               'Hombres.1':'Tasa_mortalidad_infantil_hombres',\n",
    "                               'Mujeres.1':'Tasa_mortalidad_infantil_mujeres',\n",
    "                               'por mujer': 'Fecundidad_quinquenales',\n",
    "                               'por mujer.1':'Fecundidad_edades_simples',\n",
    "                               'e(0)': 'Diferencia_TMI_hombres_mujeres'}, axis='columns')\n",
    "        complete_table = complete_table.drop(columns=['DPNOM'])\n",
    "        complete_table.columns = complete_table.columns.str.replace(\"\\.|\\s|x\", \"\")\n",
    "        complete_table['Tasa_crecimiento'] = complete_table['Tasa_crecimiento'].fillna('NULL')\n",
    "        df_all = pd.concat([df_all, complete_table])\n",
    "        print('......Completed')\n",
    "    return df_all"
   ]
  },
  {
   "cell_type": "code",
   "execution_count": 9,
   "id": "a7a52609",
   "metadata": {},
   "outputs": [
    {
     "name": "stdout",
     "output_type": "stream",
     "text": [
      "Reading https://www.dane.gov.co/files/censo2018/cambio-demografico/anexo-cambio-demografico-SumaryTable1985-2017.xlsx\n",
      "......Cleaning\n",
      "......Completed\n",
      "Reading https://www.dane.gov.co/files/censo2018/cambio-demografico/anexo-cambio-demografico-SumaryTable1950-1984.xlsx\n"
     ]
    },
    {
     "name": "stderr",
     "output_type": "stream",
     "text": [
      "C:\\Users\\david\\AppData\\Local\\Temp/ipykernel_8876/291226484.py:20: FutureWarning: The default value of regex will change from True to False in a future version.\n",
      "  complete_table.columns = complete_table.columns.str.replace(\"\\.|\\s|x\", \"\")\n"
     ]
    },
    {
     "name": "stdout",
     "output_type": "stream",
     "text": [
      "......Cleaning\n",
      "......Completed\n"
     ]
    }
   ],
   "source": [
    "df_all = get_csv(Links, 'Indicator\\\\Indicators.csv')"
   ]
  },
  {
   "cell_type": "code",
   "execution_count": 10,
   "id": "0f73955b",
   "metadata": {},
   "outputs": [],
   "source": [
    "list_str = str()\n",
    "for col in df_all.columns:\n",
    "    if col == 'DP':\n",
    "        list_str = list_str + 'departamento_id' + \"   CHAR(2) NULL, \"\n",
    "    else:\n",
    "        list_str = list_str + col + \"  INTEGER NULL,\""
   ]
  },
  {
   "cell_type": "code",
   "execution_count": 11,
   "id": "6dce999e",
   "metadata": {},
   "outputs": [
    {
     "data": {
      "text/plain": [
       "<sqlite3.Cursor at 0x2b1154b9f40>"
      ]
     },
     "execution_count": 11,
     "metadata": {},
     "output_type": "execute_result"
    }
   ],
   "source": [
    "con = sqlite3.connect('Colombia_Demographic_data.sqlite', timeout=30)\n",
    "cur = con.cursor()\n",
    "cur.executescript('DROP TABLE IF EXISTS Indicadores; CREATE TABLE Indicadores(' + list_str + 'FOREIGN KEY(departamento_id)  REFERENCES Departamento(id));')"
   ]
  },
  {
   "cell_type": "code",
   "execution_count": 12,
   "id": "858a98cf",
   "metadata": {},
   "outputs": [],
   "source": [
    "con.commit()"
   ]
  },
  {
   "cell_type": "code",
   "execution_count": 13,
   "id": "8e7dc362",
   "metadata": {},
   "outputs": [],
   "source": [
    "list_str = str()\n",
    "for col in df_all.columns:\n",
    "    if col == 'DP':\n",
    "        list_str = list_str + 'departamento_id' + ', '\n",
    "    else:\n",
    "        list_str = list_str + col + ', '\n",
    "list_str = list_str[:-2] + ') VALUES'"
   ]
  },
  {
   "cell_type": "code",
   "execution_count": 14,
   "id": "93a0f095",
   "metadata": {
    "scrolled": true
   },
   "outputs": [],
   "source": [
    "insert = 'INSERT INTO Indicadores(' + list_str\n",
    "for row in range(0,len(df_all)):\n",
    "    i = 0\n",
    "    insert += '('\n",
    "    for feature in df_all.iloc[row]:\n",
    "        if i == 0:\n",
    "            insert = insert + \"'\" + str(feature) + \"'\" + ','\n",
    "        else:\n",
    "            insert = insert + str(feature) + ','\n",
    "        i = i +1\n",
    "    insert = insert[:-1] + '),'\n",
    "    \n",
    "insert = insert[:-1] + ';'   "
   ]
  },
  {
   "cell_type": "code",
   "execution_count": 15,
   "id": "23e6d617",
   "metadata": {},
   "outputs": [
    {
     "data": {
      "text/plain": [
       "<sqlite3.Cursor at 0x2b1154b9f40>"
      ]
     },
     "execution_count": 15,
     "metadata": {},
     "output_type": "execute_result"
    }
   ],
   "source": [
    "cur.executescript(insert)"
   ]
  },
  {
   "cell_type": "code",
   "execution_count": 16,
   "id": "c98e0cb7",
   "metadata": {},
   "outputs": [],
   "source": [
    "con.commit()"
   ]
  },
  {
   "cell_type": "code",
   "execution_count": 17,
   "id": "080b8058",
   "metadata": {},
   "outputs": [],
   "source": [
    "con.close()"
   ]
  },
  {
   "cell_type": "markdown",
   "id": "e5dc39eb",
   "metadata": {},
   "source": [
    "**4. Remove directories**"
   ]
  },
  {
   "cell_type": "code",
   "execution_count": 18,
   "id": "04c7c778",
   "metadata": {},
   "outputs": [],
   "source": [
    "shutil.rmtree(path_raw)"
   ]
  }
 ],
 "metadata": {
  "kernelspec": {
   "display_name": "Python 3 (ipykernel)",
   "language": "python",
   "name": "python3"
  },
  "language_info": {
   "codemirror_mode": {
    "name": "ipython",
    "version": 3
   },
   "file_extension": ".py",
   "mimetype": "text/x-python",
   "name": "python",
   "nbconvert_exporter": "python",
   "pygments_lexer": "ipython3",
   "version": "3.10.5"
  }
 },
 "nbformat": 4,
 "nbformat_minor": 5
}
