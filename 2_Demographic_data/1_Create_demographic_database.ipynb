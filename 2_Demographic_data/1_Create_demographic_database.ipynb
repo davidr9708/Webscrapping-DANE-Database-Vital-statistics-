{
 "cells": [
  {
   "cell_type": "markdown",
   "id": "6255b3cd",
   "metadata": {},
   "source": [
    "**Library**"
   ]
  },
  {
   "cell_type": "code",
   "execution_count": 1,
   "id": "15cea81f",
   "metadata": {},
   "outputs": [],
   "source": [
    "import sqlite3"
   ]
  },
  {
   "cell_type": "markdown",
   "id": "bbbcd7fa",
   "metadata": {},
   "source": [
    "**Connecting to database**"
   ]
  },
  {
   "cell_type": "code",
   "execution_count": 2,
   "id": "7d666603",
   "metadata": {},
   "outputs": [],
   "source": [
    "con = sqlite3.connect('Colombia_Demographic_data.sqlite')\n",
    "cur = con.cursor()"
   ]
  },
  {
   "cell_type": "markdown",
   "id": "ab1fbd3c",
   "metadata": {},
   "source": [
    "**Creating tables**"
   ]
  },
  {
   "cell_type": "code",
   "execution_count": 3,
   "id": "a0667d55",
   "metadata": {},
   "outputs": [],
   "source": [
    "cur.executescript('''\n",
    "DROP TABLE IF EXISTS Departamento;\n",
    "DROP TABLE IF EXISTS Region;\n",
    "DROP TABLE IF EXISTS Tipo_municipio;\n",
    "DROP TABLE IF EXISTS Sexo;\n",
    "DROP TABLE IF EXISTS Municipio;\n",
    "DROP TABLE IF EXISTS Area;\n",
    "DROP TABLE IF EXISTS Projections;\n",
    "\n",
    "CREATE TABLE Departamento(\n",
    "    id      CHAR(2) NOT NULL PRIMARY KEY UNIQUE,\n",
    "    name    VARCHAR(255),\n",
    "    region_id INTEGER      NULL,\n",
    "    FOREIGN KEY(region_id)  REFERENCES Region(id)\n",
    ");\n",
    "CREATE TABLE Region(\n",
    "    id      INTEGER NOT NULL PRIMARY KEY UNIQUE,\n",
    "    name    VARCHAR(255)\n",
    ");\n",
    "CREATE TABLE Tipo_municipio(\n",
    "    id      INTEGER NOT NULL PRIMARY KEY AUTOINCREMENT UNIQUE,\n",
    "    name    VARCHAR(255)\n",
    ");\n",
    "CREATE TABLE Municipio(\n",
    "    id      CHAR(5) NOT NULL PRIMARY KEY UNIQUE,\n",
    "    name    VARCHAR(255),\n",
    "    departamento_id             CHAR(2)      NULL,\n",
    "    tipo_mpio_id                INTEGER      NULL,\n",
    "    \n",
    "    FOREIGN KEY(departamento_id)  REFERENCES Departamento(id),\n",
    "    FOREIGN KEY(tipo_mpio_id)  REFERENCES Tipo_municipio(id)\n",
    ");\n",
    "CREATE TABLE Area(\n",
    "    id      INTEGER NOT NULL PRIMARY KEY AUTOINCREMENT UNIQUE,\n",
    "    name    VARCHAR(255)\n",
    ");\n",
    "CREATE TABLE Sexo(\n",
    "    id      INTEGER NOT NULL PRIMARY KEY AUTOINCREMENT UNIQUE,\n",
    "    name    VARCHAR(255)\n",
    ");\n",
    "\n",
    "CREATE TABLE Projections(\n",
    "    departamento_id               CHAR(2)      NULL,\n",
    "    municipio_id                  CHAR(5)      NULL,\n",
    "    area_id                       INTEGER      NULL,\n",
    "    sex_id                        INTEGER      NULL,\n",
    "    year                          INTEGER      NULL,\n",
    "    age                           INTEGER      NULL,\n",
    "    No_people                     INTEGER      NULL,\n",
    "    \n",
    "    FOREIGN KEY(departamento_id)  REFERENCES Departamento(id),\n",
    "    FOREIGN KEY(municipio_id)     REFERENCES Municipio(id),\n",
    "    FOREIGN KEY(area_id)          REFERENCES Area(id),\n",
    "    FOREIGN KEY(sex_id)           REFERENCES Sexo(id)\n",
    "    \n",
    ");''')\n",
    "\n",
    "con.commit()"
   ]
  },
  {
   "cell_type": "markdown",
   "id": "c11f0cfc",
   "metadata": {},
   "source": [
    "**Disconnecting to the database**"
   ]
  },
  {
   "cell_type": "code",
   "execution_count": 4,
   "id": "57436527",
   "metadata": {},
   "outputs": [],
   "source": [
    "con.close()"
   ]
  }
 ],
 "metadata": {
  "kernelspec": {
   "display_name": "Python 3 (ipykernel)",
   "language": "python",
   "name": "python3"
  },
  "language_info": {
   "codemirror_mode": {
    "name": "ipython",
    "version": 3
   },
   "file_extension": ".py",
   "mimetype": "text/x-python",
   "name": "python",
   "nbconvert_exporter": "python",
   "pygments_lexer": "ipython3",
   "version": "3.11.2"
  }
 },
 "nbformat": 4,
 "nbformat_minor": 5
}
