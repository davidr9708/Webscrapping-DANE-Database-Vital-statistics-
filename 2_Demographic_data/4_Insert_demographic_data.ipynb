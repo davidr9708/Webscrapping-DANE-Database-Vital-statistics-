{
 "cells": [
  {
   "cell_type": "markdown",
   "id": "36de5d87",
   "metadata": {},
   "source": [
    "**1. Libraries**"
   ]
  },
  {
   "cell_type": "code",
   "execution_count": 1,
   "id": "c57a2831",
   "metadata": {},
   "outputs": [],
   "source": [
    "from requests_html import HTMLSession\n",
    "import pandas as pd\n",
    "import re, os, urllib, shutil\n",
    "import pandas as pd\n",
    "import sqlite3"
   ]
  },
  {
   "cell_type": "markdown",
   "id": "3cdde662",
   "metadata": {},
   "source": [
    "**2. Directories**"
   ]
  },
  {
   "cell_type": "code",
   "execution_count": 2,
   "id": "6cfe719b",
   "metadata": {},
   "outputs": [],
   "source": [
    "## Creating directories\n",
    "path_raw = os.path.join(os.getcwd(), 'Projections')\n",
    "path_national = os.path.join(path_raw, 'National')\n",
    "path_departmental = os.path.join(path_raw, 'Departmental')\n",
    "path_municipal = os.path.join(path_raw, 'Municipal')\n",
    "if os.path.exists(path_raw) == False: \n",
    "    os.mkdir(path_raw)\n",
    "if os.path.exists(path_national) == False: \n",
    "    os.mkdir(path_national)\n",
    "if os.path.exists(path_departmental) == False: \n",
    "    os.mkdir(path_departmental)\n",
    "if os.path.exists(path_municipal) == False: \n",
    "    os.mkdir(path_municipal)"
   ]
  },
  {
   "cell_type": "markdown",
   "id": "c89b801b",
   "metadata": {},
   "source": [
    "**3.2 Download and export**"
   ]
  },
  {
   "cell_type": "code",
   "execution_count": 3,
   "id": "9f6d11fc",
   "metadata": {},
   "outputs": [],
   "source": [
    "def get_data(doc, pattern, path_level,csv_name, level):\n",
    "    \n",
    "    if level == 'Municipio':\n",
    "        col_changes = {'DP':'Departamento', 'ÁREA GEOGRÁFICA':'Area', 'DPMP':'Municipio', 'AÑO':'Year'}\n",
    "        column_names = ['Sex', 'Area']\n",
    "        col_rem = ['Sexo_edad','DPNOM','MPIO']\n",
    "    else:\n",
    "        col_changes = {'DP':'Departamento', 'ÁREA GEOGRÁFICA':'Area', 'AÑO':'Year'}\n",
    "        column_names = ['Sex', 'Area']\n",
    "        col_rem = ['Sexo_edad','DPNOM']\n",
    "        insert_projection = '''INSERT INTO Projections(departamento_id, area_id, sex_id, year, age, No_people) VALUES'''\n",
    "\n",
    "    \n",
    "\n",
    "    print('File:', doc)\n",
    "    print('         Reading------------')\n",
    "    new_all = pd.read_csv(doc)\n",
    "    print(new_all.head(2))\n",
    "    # Connecting with the database\n",
    "    con = sqlite3.connect('Colombia_Demographic_data.sqlite', timeout=30)\n",
    "    cur = con.cursor()\n",
    "        \n",
    "    z = 1\n",
    "    if z == 1:\n",
    "    ## area's table\n",
    "        insert_area = 'INSERT INTO Area(name) VALUES'\n",
    "        insert_area += '('\n",
    "            \n",
    "        Areas = new_all['Area'][new_all['Area'].notna()].unique()\n",
    "        for area in Areas:\n",
    "            area = area.capitalize()\n",
    "            try:\n",
    "                select_query = 'SELECT id FROM '\n",
    "                select_query += 'Area' + ' WHERE name = ? ;'\n",
    "                cur.execute(select_query, (area, ))\n",
    "                cur.fetchone()[0]\n",
    "                continue\n",
    "            except:\n",
    "                insert_area += '\"'+str(area) + '\"'+'),('\n",
    "                    \n",
    "        if insert_area != 'INSERT INTO Area(name) VALUES(':\n",
    "            insert_area = insert_area[:-2] +';'\n",
    "            cur.execute(insert_area)\n",
    "            \n",
    "        print('area inserted')\n",
    "            \n",
    "            ## Sex's table\n",
    "        insert_sex = 'INSERT INTO Sexo(name) VALUES'\n",
    "        insert_sex += '('\n",
    "        for sex in new_all['Sexo'].unique():\n",
    "            sex = sex.capitalize()\n",
    "            try:\n",
    "                select_query = 'SELECT id FROM '\n",
    "                select_query += 'Sexo' + ' WHERE name = ? ;'\n",
    "                cur.execute(select_query, (sex, ))\n",
    "                cur.fetchone()[0]\n",
    "                continue\n",
    "            except:\n",
    "                insert_sex += '\"'+str(sex) + '\"'+'),('\n",
    "            \n",
    "        if insert_sex != 'INSERT INTO Sexo(name) VALUES(':\n",
    "            insert_sex = insert_sex[:-2] +';'\n",
    "            cur.execute(insert_sex)\n",
    "        con.commit()\n",
    "        print('area and sex inserted')\n",
    "        z += 1\n",
    "            \n",
    "    if level == 'Municipio':    \n",
    "        insert_projection = '''INSERT INTO Projections(departamento_id, municipio_id, year, area_id, No_people, sex_id, age) VALUES'''\n",
    "    else:\n",
    "        insert_projection = '''INSERT INTO Projections(departamento_id, year , area_id, No_people, sex_id, age) VALUES'''\n",
    "\n",
    "    r = 0\n",
    "    for row in range(0,len(new_all)):\n",
    "        \n",
    "        i = 0\n",
    "        insert_projection += '('\n",
    "        for feature in new_all.iloc[row]:\n",
    "                \n",
    "            title   = new_all.columns.values[i]\n",
    "\n",
    "            if title in column_names:\n",
    "                feature = feature.capitalize()\n",
    "                select_query = 'SELECT id FROM '\n",
    "                select_query += str(title) + ' WHERE name = ? ;'\n",
    "                cur.execute(select_query, (feature, ))\n",
    "                try:\n",
    "                    feature_id = cur.fetchone()[0]\n",
    "                    insert_projection += '\"'+str(feature_id) + '\"'+','\n",
    "                except:\n",
    "                    print(title)\n",
    "                    print(feature)\n",
    "                    insert_projection += 'NULL,'\n",
    "            elif pd.isna(feature):\n",
    "                insert_projection += 'NULL,'\n",
    "\n",
    "            else:\n",
    "                insert_projection += '\"' + str(feature) + '\"'+','\n",
    "\n",
    "            i +=1\n",
    "        r +=1\n",
    "        insert_projection = insert_projection[:-1] +'),'\n",
    "\n",
    "        if r >= 10000:\n",
    "            insert_projection = insert_projection[:-2] +');'\n",
    "            cur.execute(insert_projection)\n",
    "            \n",
    "            r = 0\n",
    "            if level == 'Municipio':    \n",
    "                insert_projection = '''INSERT INTO Projections(departamento_id, municipio_id, year, area_id, No_people, sex_id, age) VALUES'''\n",
    "            else:\n",
    "                insert_projection = '''INSERT INTO Projections(departamento_id, year , area_id, No_people, sex_id, age) VALUES'''\n",
    "            \n",
    "    if r >0:\n",
    "        insert_projection = insert_projection[:-2] +');'\n",
    "        cur.execute(insert_projection)\n",
    "        print('executed')\n",
    "        con.commit()\n",
    "        print('commited')\n",
    "        \n",
    "    con.close() "
   ]
  },
  {
   "cell_type": "code",
   "execution_count": 4,
   "id": "a7a52609",
   "metadata": {
    "scrolled": true
   },
   "outputs": [
    {
     "name": "stdout",
     "output_type": "stream",
     "text": [
      "File: Projections/National.csv\n",
      "         Reading------------\n",
      "   DP   AÑO                               Area  No_personas     Sexo Edad\n",
      "0   0  2020                           Cabecera     270528.0  Hombres    0\n",
      "1   0  2020  Centros Poblados y Rural Disperso     117791.0  Hombres    0\n",
      "area inserted\n",
      "area and sex inserted\n",
      "executed\n",
      "commited\n"
     ]
    }
   ],
   "source": [
    "get_data('Projections/National.csv', \"Nac-[0-9]{4}-[0-9]{4}.xlsx$\", path_national, 'Projections\\\\National.csv', 'x')"
   ]
  },
  {
   "cell_type": "code",
   "execution_count": 5,
   "id": "ac81af1a",
   "metadata": {},
   "outputs": [
    {
     "name": "stdout",
     "output_type": "stream",
     "text": [
      "File: Projections/Departmental.csv\n",
      "         Reading------------\n"
     ]
    },
    {
     "name": "stderr",
     "output_type": "stream",
     "text": [
      "C:\\Users\\romer\\AppData\\Local\\Temp\\ipykernel_11772\\168288192.py:17: DtypeWarning: Columns (5) have mixed types. Specify dtype option on import or set low_memory=False.\n",
      "  new_all = pd.read_csv(doc)\n"
     ]
    },
    {
     "name": "stdout",
     "output_type": "stream",
     "text": [
      "   DP   AÑO                               Area  No_personas     Sexo Edad\n",
      "0   5  1985                           Cabecera      26387.0  Hombres    0\n",
      "1   5  1985  Centros Poblados y Rural Disperso      22738.0  Hombres    0\n",
      "area inserted\n",
      "area and sex inserted\n",
      "executed\n",
      "commited\n"
     ]
    }
   ],
   "source": [
    "get_data('Projections/Departmental.csv', \"dep-[0-9]{4}-[0-9]{4}.*\\.xlsx$\", path_departmental, 'Projections\\\\Departmental.csv', 'd')"
   ]
  },
  {
   "cell_type": "code",
   "execution_count": null,
   "id": "2b40c1a5",
   "metadata": {
    "scrolled": true
   },
   "outputs": [],
   "source": [
    "get_data(Municipal, \"Mun-[0-9]{4}-[0-9]{4}.*\\.xlsx$\", path_municipal,'Projections\\\\Municipal.csv', 'Municipio')"
   ]
  },
  {
   "cell_type": "markdown",
   "id": "e5dc39eb",
   "metadata": {},
   "source": [
    "**4. Remove directories**"
   ]
  },
  {
   "cell_type": "code",
   "execution_count": null,
   "id": "04c7c778",
   "metadata": {},
   "outputs": [],
   "source": [
    "shutil.rmtree(path_national)\n",
    "shutil.rmtree(path_departmental)\n",
    "shutil.rmtree(path_municipal)"
   ]
  }
 ],
 "metadata": {
  "kernelspec": {
   "display_name": "Python 3 (ipykernel)",
   "language": "python",
   "name": "python3"
  },
  "language_info": {
   "codemirror_mode": {
    "name": "ipython",
    "version": 3
   },
   "file_extension": ".py",
   "mimetype": "text/x-python",
   "name": "python",
   "nbconvert_exporter": "python",
   "pygments_lexer": "ipython3",
   "version": "3.11.2"
  }
 },
 "nbformat": 4,
 "nbformat_minor": 5
}
