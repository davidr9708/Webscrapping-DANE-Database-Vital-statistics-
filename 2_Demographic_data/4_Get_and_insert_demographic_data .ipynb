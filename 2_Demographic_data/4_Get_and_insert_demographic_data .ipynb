{
 "cells": [
  {
   "cell_type": "markdown",
   "id": "36de5d87",
   "metadata": {},
   "source": [
    "**1. Libraries**"
   ]
  },
  {
   "cell_type": "code",
   "execution_count": null,
   "id": "c57a2831",
   "metadata": {},
   "outputs": [],
   "source": [
    "from requests_html import HTMLSession\n",
    "import pandas as pd\n",
    "import re, os, urllib, shutil\n",
    "import pandas as pd\n",
    "import sqlite3"
   ]
  },
  {
   "cell_type": "markdown",
   "id": "3cdde662",
   "metadata": {},
   "source": [
    "**2. Directories**"
   ]
  },
  {
   "cell_type": "code",
   "execution_count": null,
   "id": "6cfe719b",
   "metadata": {},
   "outputs": [],
   "source": [
    "## Creating directories\n",
    "path_raw = os.path.join(os.getcwd(), 'Projections')\n",
    "path_national = os.path.join(path_raw, 'National')\n",
    "path_departmental = os.path.join(path_raw, 'Departmental')\n",
    "path_municipal = os.path.join(path_raw, 'Municipal')\n",
    "if os.path.exists(path_raw) == False: \n",
    "    os.mkdir(path_raw)\n",
    "if os.path.exists(path_national) == False: \n",
    "    os.mkdir(path_national)\n",
    "if os.path.exists(path_departmental) == False: \n",
    "    os.mkdir(path_departmental)\n",
    "if os.path.exists(path_municipal) == False: \n",
    "    os.mkdir(path_municipal)"
   ]
  },
  {
   "cell_type": "markdown",
   "id": "721f2727",
   "metadata": {},
   "source": [
    "**3. Connecting**"
   ]
  },
  {
   "cell_type": "code",
   "execution_count": null,
   "id": "bd07e88b",
   "metadata": {},
   "outputs": [],
   "source": [
    "session = HTMLSession()"
   ]
  },
  {
   "cell_type": "code",
   "execution_count": null,
   "id": "86ca0da4",
   "metadata": {},
   "outputs": [],
   "source": [
    "url = 'https://www.dane.gov.co/index.php/estadisticas-por-tema/demografia-y-poblacion/proyecciones-de-poblacion'"
   ]
  },
  {
   "cell_type": "code",
   "execution_count": null,
   "id": "73d90fb0",
   "metadata": {},
   "outputs": [],
   "source": [
    "response = session.get(url)"
   ]
  },
  {
   "cell_type": "markdown",
   "id": "9af4b85d",
   "metadata": {},
   "source": [
    "**3.1 Scrapping**"
   ]
  },
  {
   "cell_type": "code",
   "execution_count": null,
   "id": "393ba73d",
   "metadata": {},
   "outputs": [],
   "source": [
    "links = response.html.absolute_links"
   ]
  },
  {
   "cell_type": "code",
   "execution_count": null,
   "id": "e623768c",
   "metadata": {},
   "outputs": [],
   "source": [
    "National = list()\n",
    "Departmental = list()\n",
    "Municipal = list()\n",
    "for link in links:\n",
    "    if re.search('anexo-(area-sexo-edad-)*proyecciones-poblacion-Nacional[0-9]{4}_[0-9]{4}.xlsx$', link):\n",
    "        National.append(link)\n",
    "        continue\n",
    "    if re.search('anexo-(area-sexo-edad-)*proyecciones-poblacion-departamental_[0-9]{4}-[0-9]{4}.xlsx$', link):\n",
    "        Departmental.append(link)\n",
    "        continue\n",
    "    if re.search('anexo-(area-sexo-edad-)*proyecciones-poblacion-Municipal_[0-9]{4}-[0-9]{4}.xlsx$', link):\n",
    "        Municipal.append(link)\n",
    "        continue"
   ]
  },
  {
   "cell_type": "markdown",
   "id": "c89b801b",
   "metadata": {},
   "source": [
    "**3.2 Download and export**"
   ]
  },
  {
   "cell_type": "code",
   "execution_count": null,
   "id": "9f6d11fc",
   "metadata": {},
   "outputs": [],
   "source": [
    "def get_csv(links, pattern, path_level,csv_name, level, insert_as):\n",
    "    \n",
    "    if level == 'Municipio':\n",
    "        col_changes = {'DP':'Departamento', 'ÁREA GEOGRÁFICA':'Area', 'DPMP':'Municipio', 'AÑO':'Year'}\n",
    "        column_names = ['Municipio', 'Sex', 'Area']\n",
    "        col_rem = ['Sexo_edad','DPNOM','MPIO']\n",
    "    else:\n",
    "        col_changes = {'DP':'Departamento', 'ÁREA GEOGRÁFICA':'Area', 'AÑO':'Year'}\n",
    "        column_names = ['Sex', 'Area']\n",
    "        col_rem = ['Sexo_edad','DPNOM']\n",
    "        insert_projection = '''INSERT INTO Projections(departamento_id, area_id, sex_id, year, age, No_people) VALUES'''\n",
    "\n",
    "    \n",
    "    for web in links:\n",
    "        name = re.findall(pattern, web)[0]\n",
    "        path_doc = os.path.join(path_level, name)\n",
    "        if os.path.isfile(path_doc) == False:\n",
    "            print('Reading', path_doc)\n",
    "            urllib.request.urlretrieve(web, path_doc)\n",
    "        print('File downloaded')\n",
    "        df_all = pd.read_excel(path_doc, skiprows=11)\n",
    "        print(name, 'read')\n",
    "        cols_to_split = df_all.loc[:,'Hombres_0':].columns.values\n",
    "        ids = df_all.loc[:,:'ÁREA GEOGRÁFICA'].columns.values\n",
    "        print('ids and split identified')\n",
    "        new_all = pd.melt(df_all, id_vars =ids, value_vars =cols_to_split, var_name ='Sexo_edad', value_name ='No_personas')\n",
    "\n",
    "        print('col to row')\n",
    "        new_all[[\"Sex\", \"Age\"]] = new_all.Sexo_edad.str.split(pat='_', n = 1, expand = True)\n",
    "        print('sex and age splited')\n",
    "        new_all = new_all.drop(columns=col_rem)\n",
    "        \n",
    "        new_all.rename(columns = col_changes, inplace = True)\n",
    "        print(new_all.head(2))\n",
    "        # Connecting with the database\n",
    "        con = sqlite3.connect('Colombia_Demographic_data.sqlite', timeout=30)\n",
    "        cur = con.cursor()\n",
    "        \n",
    "        z = 1\n",
    "        if insert_as == 'yes' and z == 1:\n",
    "            ## area's table\n",
    "            insert_area = 'INSERT INTO Area(name) VALUES'\n",
    "            insert_area += '('\n",
    "            \n",
    "            for area in new_all['Area'].unique():\n",
    "                try:\n",
    "                    select_query = 'SELECT id FROM '\n",
    "                    select_query += 'Area' + ' WHERE name = ? ;'\n",
    "                    cur.execute(select_query, (area, ))\n",
    "                    cur.fetchone()[0]\n",
    "                    continue\n",
    "                except:\n",
    "                    insert_area += '\"'+str(area) + '\"'+'),('\n",
    "                    \n",
    "            if insert_area != 'INSERT INTO Area(name) VALUES(':\n",
    "                insert_area = insert_area[:-2] +';'\n",
    "                cur.execute(insert_area)\n",
    "            \n",
    "            print('area inserted')\n",
    "            \n",
    "            ## Sex's table\n",
    "            insert_sex = 'INSERT INTO Sex(name) VALUES'\n",
    "            insert_sex += '('\n",
    "            for sex in new_all['Sex'].unique():\n",
    "                try:\n",
    "                    select_query = 'SELECT id FROM '\n",
    "                    select_query += 'Sex' + ' WHERE name = ? ;'\n",
    "                    cur.execute(select_query, (sex, ))\n",
    "                    cur.fetchone()[0]\n",
    "                    continue\n",
    "                except:\n",
    "                    insert_sex += '\"'+str(sex) + '\"'+'),('\n",
    "            \n",
    "            if insert_sex != 'INSERT INTO Sex(name) VALUES(':\n",
    "                insert_sex = insert_sex[:-2] +';'\n",
    "                cur.execute(insert_sex)\n",
    "            con.commit()\n",
    "            print('area and sex inserted')\n",
    "            z += 1\n",
    "            \n",
    "        if level == 'Municipio':    \n",
    "            insert_projection = '''INSERT INTO Projections(departamento_id, municipio_id, year, area_id, No_people, sex_id, age) VALUES'''\n",
    "        else:\n",
    "            insert_projection = '''INSERT INTO Projections(departamento_id, year , area_id, No_people, sex_id, age) VALUES'''\n",
    "        print(len(new_all))\n",
    "        r = 0\n",
    "        for row in range(0,len(new_all)):\n",
    "            i = 0\n",
    "            insert_projection += '('\n",
    "            print('row:', row)\n",
    "            for feature in new_all.iloc[row]:\n",
    "                \n",
    "                title   = new_all.columns.values[i]\n",
    "                feature = feature\n",
    "\n",
    "                if title in column_names:\n",
    "                    select_query = 'SELECT id FROM '\n",
    "                    select_query += str(title) + ' WHERE name = ? ;'\n",
    "                    cur.execute(select_query, (feature, ))\n",
    "                    try:\n",
    "                        feature_id = cur.fetchone()[0]\n",
    "                        insert_projection += '\"'+str(feature_id) + '\"'+','\n",
    "                    except:\n",
    "                        print(title)\n",
    "                        print(feature)\n",
    "                        insert_projection += 'NULL,'\n",
    "                elif pd.isna(feature):\n",
    "                    insert_projection += 'NULL,'\n",
    "\n",
    "                else:\n",
    "                    insert_projection += '\"' + str(feature) + '\"'+','\n",
    "\n",
    "                i +=1\n",
    "            r +=1\n",
    "            insert_projection = insert_projection[:-1] +'),'\n",
    "            \n",
    "            if r >= 10000:\n",
    "                insert_projection = insert_projection[:-2] +');'\n",
    "                cur.execute(insert_projection)\n",
    "                r = 0\n",
    "                if level == 'Municipio':    \n",
    "                    insert_projection = '''INSERT INTO Projections(departamento_id, municipio_id, year, area_id, No_people, sex_id, age) VALUES'''\n",
    "                else:\n",
    "                    insert_projection = '''INSERT INTO Projections(departamento_id, year , area_id, No_people, sex_id, age) VALUES'''\n",
    "            \n",
    "        if r >0:\n",
    "            insert_projection = insert_projection[:-2] +');'\n",
    "            print(insert_projection)\n",
    "            cur.execute(insert_projection)\n",
    "            print('executed')\n",
    "            con.commit()\n",
    "            print('commited')\n",
    "        con.close() "
   ]
  },
  {
   "cell_type": "code",
   "execution_count": null,
   "id": "a7a52609",
   "metadata": {},
   "outputs": [],
   "source": [
    "get_csv(National, \"Nacional[0-9]{4}_[0-9]{4}.xlsx$\", path_national, 'Projections\\\\National.csv', 'x', 'yes')"
   ]
  },
  {
   "cell_type": "code",
   "execution_count": null,
   "id": "ac81af1a",
   "metadata": {},
   "outputs": [],
   "source": [
    "get_csv(Departmental, \"departamental_[0-9]{4}-[0-9]{4}.xlsx$\", path_departmental, 'Projections\\\\Departmental.csv', 'd', 'yes')"
   ]
  },
  {
   "cell_type": "code",
   "execution_count": null,
   "id": "2b40c1a5",
   "metadata": {},
   "outputs": [],
   "source": [
    "get_csv(Municipal, \"Municipal_[0-9]{4}-[0-9]{4}.xlsx$\", path_municipal,'Projections\\\\Municipal.csv', 'Municipio', 'no')"
   ]
  },
  {
   "cell_type": "code",
   "execution_count": null,
   "id": "48d6b580",
   "metadata": {},
   "outputs": [],
   "source": [
    "con.close()        "
   ]
  },
  {
   "cell_type": "markdown",
   "id": "e5dc39eb",
   "metadata": {},
   "source": [
    "**4. Remove directories**"
   ]
  },
  {
   "cell_type": "code",
   "execution_count": null,
   "id": "04c7c778",
   "metadata": {},
   "outputs": [],
   "source": [
    "shutil.rmtree(path_national)\n",
    "shutil.rmtree(path_departmental)\n",
    "shutil.rmtree(path_municipal)"
   ]
  }
 ],
 "metadata": {
  "kernelspec": {
   "display_name": "Python 3 (ipykernel)",
   "language": "python",
   "name": "python3"
  },
  "language_info": {
   "codemirror_mode": {
    "name": "ipython",
    "version": 3
   },
   "file_extension": ".py",
   "mimetype": "text/x-python",
   "name": "python",
   "nbconvert_exporter": "python",
   "pygments_lexer": "ipython3",
   "version": "3.10.5"
  }
 },
 "nbformat": 4,
 "nbformat_minor": 5
}
